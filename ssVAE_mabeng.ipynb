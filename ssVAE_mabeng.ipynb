{
 "cells": [
  {
   "cell_type": "markdown",
   "metadata": {
    "id": "C60ZAm4-Yo4M"
   },
   "source": [
    "# Week 12 - Generative models  \n",
    "\n",
    "## Part 2: Variational Autoencoders (VAEs)\n",
    "\n"
   ]
  },
  {
   "cell_type": "markdown",
   "metadata": {
    "id": "VsSfbUYyiOP2"
   },
   "source": [
    "This part we move towards a non-linear mapping between the latent space z and the observation/input space x. Concretely, we will implement a VAE in Pyro."
   ]
  },
  {
   "cell_type": "markdown",
   "metadata": {
    "id": "zCHBydp2Yo4N"
   },
   "source": [
    "Import required libraries:"
   ]
  },
  {
   "cell_type": "code",
   "execution_count": 16,
   "metadata": {
    "colab": {
     "base_uri": "https://localhost:8080/"
    },
    "executionInfo": {
     "elapsed": 5377,
     "status": "ok",
     "timestamp": 1646648637408,
     "user": {
      "displayName": "Filipe Rodrigues",
      "photoUrl": "https://lh3.googleusercontent.com/a-/AOh14GgANv2Od365vLQDnVjoxw2PUote-kpb5nugTmcQwA=s64",
      "userId": "15636531912642599438"
     },
     "user_tz": -60
    },
    "id": "Ei1QbnmhYyXM",
    "outputId": "ff76128a-ac98-4741-e58e-00fb4a40241e"
   },
   "outputs": [],
   "source": [
    "# Install Pyro, if necessary\n",
    "#!pip install pyro-ppl"
   ]
  },
  {
   "cell_type": "code",
   "execution_count": 17,
   "metadata": {
    "executionInfo": {
     "elapsed": 4897,
     "status": "ok",
     "timestamp": 1646648642167,
     "user": {
      "displayName": "Filipe Rodrigues",
      "photoUrl": "https://lh3.googleusercontent.com/a-/AOh14GgANv2Od365vLQDnVjoxw2PUote-kpb5nugTmcQwA=s64",
      "userId": "15636531912642599438"
     },
     "user_tz": -60
    },
    "id": "iGyKT_grYo4O"
   },
   "outputs": [],
   "source": [
    "import numpy as np\n",
    "import torch\n",
    "import torch.nn as nn\n",
    "from mnist_cached import MNISTCached as MNIST\n",
    "from mnist_cached import setup_data_loaders\n",
    "from vae_plots import mnist_test_tsne, plot_llk, plot_vae_samples\n",
    "\n",
    "import pyro\n",
    "import pyro.distributions as dist\n",
    "from pyro.infer import SVI, Trace_ELBO\n",
    "from pyro.optim import Adam\n",
    "\n",
    "# fix random generator seed (for reproducibility of results)\n",
    "np.random.seed(42)\n",
    "\n",
    "# matplotlib style options\n",
    "from matplotlib import pyplot as plt\n",
    "plt.style.use('ggplot')\n",
    "%matplotlib inline\n",
    "plt.rcParams['figure.figsize'] = (12, 8)"
   ]
  },
  {
   "cell_type": "code",
   "execution_count": null,
   "metadata": {},
   "outputs": [],
   "source": []
  },
  {
   "cell_type": "code",
   "execution_count": null,
   "metadata": {},
   "outputs": [],
   "source": []
  },
  {
   "cell_type": "markdown",
   "metadata": {
    "id": "ktkbYC6AYo4X"
   },
   "source": [
    "We will first use the same Iris data that we used for PPCA.\n",
    "\n",
    "Load data:"
   ]
  },
  {
   "cell_type": "code",
   "execution_count": 18,
   "metadata": {
    "colab": {
     "base_uri": "https://localhost:8080/",
     "height": 288
    },
    "executionInfo": {
     "elapsed": 410,
     "status": "ok",
     "timestamp": 1646648642565,
     "user": {
      "displayName": "Filipe Rodrigues",
      "photoUrl": "https://lh3.googleusercontent.com/a-/AOh14GgANv2Od365vLQDnVjoxw2PUote-kpb5nugTmcQwA=s64",
      "userId": "15636531912642599438"
     },
     "user_tz": -60
    },
    "id": "ge0Jqp1xYo4Y",
    "outputId": "b14f96fc-eb68-48c4-d8d5-b8f2dc489270"
   },
   "outputs": [],
   "source": [
    "# # load csv\n",
    "# from sklearn import datasets\n",
    "# iris = datasets.load_iris()\n",
    "# X = torch.tensor(iris.data, dtype=torch.float32)\n",
    "# y = iris.target\n",
    "\n",
    "# # standardize data\n",
    "# X = (X-X.mean(dim=0)) / X.std(dim=0)"
   ]
  },
  {
   "cell_type": "markdown",
   "metadata": {
    "id": "fG-46wBlYo5d"
   },
   "source": [
    "## Variational Autoencoders in Pyro\n",
    "\n",
    "We will now implement a VAE in Pyro. Let us begin by recapping the model introduced in the class. The generative process can be summarize as follows:\n",
    "\n",
    "1. For each observation $n \\in \\{1,\\dots,N\\}$\n",
    "    1. Sample latent projection $\\textbf{z}_n \\sim \\mathcal{N}(\\textbf{z}_n|\\textbf{0}, \\textbf{I})$\n",
    "    2. Sample observation $\\textbf{x}_n \\sim \\mathcal{N}(\\textbf{x}_n|f_{\\boldsymbol\\theta}(\\textbf{z}_n))$\n",
    "\n",
    "Note that the neural network $f$ is outputting both the mean and variance of the Gaussian. \n",
    "\n",
    "Our goal is to compute the posterior distribution over the latent variables $\\textbf{z}_n$, while jointly finding point estimates for the parameters of that neural network $\\boldsymbol\\theta$. Note that you could also treat $\\boldsymbol\\theta$ as latent variables and perform inference on them as well (i.e. a Bayesian neural network), but, for this particular model, point estimates are usually sufficient. \n",
    "\n",
    "We will also need an approximate distribution $q(\\textbf{z})$ for VI. As we saw in the slides, we will use a second neural network $g$ to parameterize this variational distribution $q$. Therefore, we can represent the entire process of the training a VAE as follows:\n",
    "\n",
    "<img style=\"width:50%\" src=\"http://mlsm.man.dtu.dk/vae.png\">\n",
    "\n",
    "In the diagram, $g$ is the encoder network and $f$ is the decoder network. Lets begin by implementing those two neural networks in Torch:"
   ]
  },
  {
   "cell_type": "code",
   "execution_count": 19,
   "metadata": {},
   "outputs": [],
   "source": [
    "# define the PyTorch module that parameterizes the\n",
    "# diagonal gaussian distribution q(z|x)\n",
    "class Encoder(nn.Module):\n",
    "    def __init__(self, z_dim, hidden_dim, input_dim):\n",
    "        self.input_dim = input_dim\n",
    "        super().__init__()\n",
    "        # setup the three linear transformations used\n",
    "        self.fc1 = nn.Linear(input_dim, hidden_dim)\n",
    "        self.fc21 = nn.Linear(hidden_dim, z_dim)\n",
    "        self.fc22 = nn.Linear(hidden_dim, z_dim)\n",
    "        # setup the non-linearities\n",
    "        self.softplus = nn.Softplus()\n",
    "\n",
    "    def forward(self, x):\n",
    "        # define the forward computation on the image x\n",
    "        # first shape the mini-batch to have pixels in the rightmost dimension\n",
    "        x = x.reshape(-1, self.input_dim)\n",
    "        # then compute the hidden units\n",
    "        hidden = self.softplus(self.fc1(x))\n",
    "        # then return a mean vector and a (positive) square root covariance\n",
    "        # each of size batch_size x z_dim\n",
    "        z_loc = self.fc21(hidden)\n",
    "        z_scale = torch.exp(self.fc22(hidden))\n",
    "        return z_loc, z_scale\n",
    "\n",
    "\n",
    "# define the PyTorch module that parameterizes the\n",
    "# observation likelihood p(x|z)\n",
    "class Decoder(nn.Module):\n",
    "    def __init__(self, z_dim, hidden_dim, output_dim, binary=False):\n",
    "        self.binary = binary\n",
    "        super().__init__()\n",
    "        # setup the two linear transformations used\n",
    "        self.fc1 = nn.Linear(z_dim, hidden_dim)\n",
    "        self.fc21 = nn.Linear(hidden_dim, output_dim)\n",
    "        if not self.binary:\n",
    "            self.fc22 = nn.Linear(hidden_dim, output_dim)\n",
    "        # setup the non-linearities\n",
    "        self.softplus = nn.Softplus()\n",
    "\n",
    "    def forward(self, z):\n",
    "        # define the forward computation on the latent z\n",
    "        # first compute the hidden units\n",
    "        hidden = self.softplus(self.fc1(z))\n",
    "        # return the parameter for the output Bernoulli\n",
    "        # each is of size batch_size x input_dim\n",
    "        if self.binary:\n",
    "            out = torch.sigmoid(self.fc21(hidden))\n",
    "        else:\n",
    "            out = (self.fc21(hidden), self.softplus(self.fc22(hidden)))\n",
    "        return out"
   ]
  },
  {
   "cell_type": "markdown",
   "metadata": {},
   "source": [
    "Now that we have defined $f$ and $g$, we can use them to implement the model() and guide() in Pyro:\n",
    "\n",
    "- The guide() will take the observations $\\textbf{x}$ as input, pass them through the encoder network $g$, and use the output of the encoder to parameterize the variational approximation $q(\\textbf{z})$. You can do a forward pass through the encoder using: ``self.encoder.forward(x)``. \n",
    "\n",
    "- The model() just follows the generative process of the VAE described above. For each observation $n$, it samples $\\textbf{z}_n \\sim \\mathcal{N}(\\textbf{z}_n|\\textbf{0}, \\textbf{I})$ and passes the samples through the decoder network $f$, in order to produce the parameters of the observation distributon $\\mathcal{N}(\\textbf{x}_n|f_{\\boldsymbol\\theta}(\\textbf{z}_n))$. You can do a forward pass through the decoder using: ``self.decoder.forward(z)``. \n",
    "\n",
    "Can try to you implement the guide() and model() for the Pyro model below? "
   ]
  },
  {
   "cell_type": "code",
   "execution_count": 20,
   "metadata": {},
   "outputs": [],
   "source": [
    "\n",
    "# define a PyTorch module for the VAE\n",
    "class VAE(nn.Module):\n",
    "    # by default our latent space is 50-dimensional\n",
    "    # and we use 400 hidden units\n",
    "    def __init__(self, z_dim=50, hidden_dim=400, input_dim=784, binary=False, use_cuda=False):\n",
    "        self.input_dim = input_dim\n",
    "        self.binary = binary\n",
    "        super().__init__()\n",
    "        # create the encoder and decoder networks\n",
    "        self.encoder = Encoder(z_dim, hidden_dim, input_dim)\n",
    "        self.decoder = Decoder(z_dim, hidden_dim, input_dim, binary=binary)\n",
    "\n",
    "        if use_cuda:\n",
    "            # calling cuda() here will put all the parameters of\n",
    "            # the encoder and decoder networks into gpu memory\n",
    "            self.cuda()\n",
    "        self.use_cuda = use_cuda\n",
    "        self.z_dim = z_dim\n",
    "\n",
    "    # define the model p(x|z)p(z)\n",
    "    def model(self, x):\n",
    "        # register PyTorch module `decoder` with Pyro\n",
    "        pyro.module(\"decoder\", self.decoder)\n",
    "\n",
    "        with pyro.plate(\"data\", x.shape[0]):\n",
    "            z_loc = torch.zeros(x.shape[0], self.z_dim)\n",
    "            z_scale = torch.ones(x.shape[0], self.z_dim)\n",
    "            z = pyro.sample(\"z\", dist.Normal(z_loc, z_scale).to_event(1))\n",
    "            img = self.decoder.forward(z)\n",
    "            if self.binary:\n",
    "                # sample from the Bernoulli distribution\n",
    "                pyro.sample(\"obs\", dist.Bernoulli(img, validate_args=False).to_event(1), obs=x.reshape(-1, self.input_dim))\n",
    "            else:\n",
    "                # sample from the Gaussian distribution\n",
    "                loc, scale = img\n",
    "                pyro.sample(\"obs\", dist.Normal(loc, scale, validate_args=False).to_event(1), obs=x.reshape(-1, self.input_dim))\n",
    "\n",
    "    # define the guide (i.e. variational distribution) q(z|x)\n",
    "    def guide(self, x):\n",
    "        # register PyTorch module `encoder` with Pyro\n",
    "        pyro.module(\"encoder\", self.encoder)\n",
    "        \n",
    "        with pyro.plate(\"data\", x.shape[0]):\n",
    "            z_loc, z_scale = self.encoder.forward(x)\n",
    "            z = pyro.sample(\"z\", dist.Normal(z_loc, z_scale).to_event(1))\n",
    "\n",
    "\n",
    "    # define a helper function for reconstructing images (this will useful later - ignore for now)\n",
    "    def reconstruct_img(self, x):\n",
    "        # encode image x\n",
    "        z_loc, z_scale = self.encoder(x)\n",
    "        # sample in latent space\n",
    "        z = dist.Normal(z_loc, z_scale).sample()\n",
    "        # decode the image (note we don't sample in image space)\n",
    "        loc_img = self.decoder(z)\n",
    "        return loc_img"
   ]
  },
  {
   "cell_type": "markdown",
   "metadata": {},
   "source": [
    "Now that the Pyro model is defined, lets run Bayesian inference on it. Note that the encoder and decoder networks will be trained jointly as part of the VI process."
   ]
  },
  {
   "cell_type": "code",
   "execution_count": 21,
   "metadata": {},
   "outputs": [],
   "source": [
    "# clear param store\n",
    "# pyro.clear_param_store()\n",
    "\n",
    "# setup the VAE\n",
    "# vae = VAE(z_dim=2, hidden_dim=20, input_dim=4, use_cuda=False)\n",
    "\n",
    "# setup the optimizer\n",
    "adam_args = {\"lr\": 1.0e-3}\n",
    "optimizer = Adam(adam_args)\n",
    "\n",
    "# setup the inference algorithm\n",
    "#elbo = Trace_ELBO()\n",
    "elbo = Trace_ELBO(num_particles=3)\n",
    "# svi = SVI(vae.model, vae.guide, optimizer, loss=elbo)\n",
    "\n",
    "train_elbo = {}\n",
    "test_elbo = {}\n",
    "# training loop\n",
    "# num_epochs = 5000\n",
    "# for epoch in range(num_epochs):\n",
    "#     # do ELBO gradient and accumulate loss\n",
    "#     epoch_loss = svi.step(X)\n",
    "\n",
    "#     if epoch % 100 == 0:\n",
    "#         # report training diagnostics\n",
    "#         total_epoch_loss_train = epoch_loss / len(X)\n",
    "#         train_elbo[epoch] = total_epoch_loss_train\n",
    "#         print(\"[epoch %03d]  average training loss: %.4f\" % (epoch, total_epoch_loss_train))"
   ]
  },
  {
   "cell_type": "markdown",
   "metadata": {},
   "source": [
    "As we did for PPCA, we can look at the reconstructions of the inputs $\\textbf{x}$ and see how good they are."
   ]
  },
  {
   "cell_type": "code",
   "execution_count": 22,
   "metadata": {},
   "outputs": [],
   "source": [
    "# out = vae.reconstruct_img(X)\n",
    "# reconstruction_mean, reconstruction_var = out\n",
    "# reconstruction_mean = reconstruction_mean.cpu().detach().numpy()\n",
    "# mae = torch.mean(torch.abs(X-reconstruction_mean))\n",
    "# rmse = torch.sqrt(torch.mean((X-reconstruction_mean)**2))\n",
    "# mae, rmse"
   ]
  },
  {
   "cell_type": "markdown",
   "metadata": {},
   "source": [
    "And as we did for the PPCA model, we can also look at the projections of the data in the latent space:"
   ]
  },
  {
   "cell_type": "code",
   "execution_count": 23,
   "metadata": {},
   "outputs": [],
   "source": [
    "# z_loc, z_scale = vae.encoder(X)\n",
    "# z_loc = z_loc.cpu().detach().numpy()\n",
    "# plt.scatter(z_loc[:,0], z_loc[:,1], c=y);"
   ]
  },
  {
   "cell_type": "markdown",
   "metadata": {},
   "source": [
    "## VAE application in computer vision\n",
    "\n",
    "The Iris data is relatively simple. Lets now look at a more complex application in computer vision, where the VAE can really start to shine. Concretely, we will try to model images of digits using a VAE - the MNIST dataset. In the code below, we will load the datasets and train the VAE model on it. We will use a larger dimensionality (``z_dim=50``) of the latent space $\\textbf{z}$.\n",
    "\n",
    "Note: training the VAE on this dataset will take a few minutes (about 5-10 minutes, depending on your computer)."
   ]
  },
  {
   "cell_type": "code",
   "execution_count": 24,
   "metadata": {},
   "outputs": [],
   "source": [
    "use_cuda = False\n",
    "\n",
    "# clear param store\n",
    "pyro.clear_param_store()\n",
    "\n",
    "\n"
   ]
  },
  {
   "cell_type": "code",
   "execution_count": 25,
   "metadata": {},
   "outputs": [],
   "source": [
    "loaders = setup_data_loaders(MNIST, use_cuda=False, batch_size=256, sup_num=49000)\n",
    "train_loader = loaders[\"sup\"]\n",
    "test_loader = loaders[\"test\"]\n",
    "sup_loader = loaders[\"sup\"]"
   ]
  },
  {
   "cell_type": "code",
   "execution_count": 26,
   "metadata": {},
   "outputs": [
    {
     "data": {
      "text/plain": [
       "(48507, 48507, 10000)"
      ]
     },
     "execution_count": 26,
     "metadata": {},
     "output_type": "execute_result"
    }
   ],
   "source": [
    "len(sup_loader.dataset), len(train_loader.dataset), len(test_loader.dataset)"
   ]
  },
  {
   "cell_type": "code",
   "execution_count": 27,
   "metadata": {},
   "outputs": [
    {
     "name": "stdout",
     "output_type": "stream",
     "text": [
      "torch.Size([256, 10])\n",
      "torch.Size([256, 10])\n",
      "torch.Size([256, 10])\n",
      "torch.Size([256, 10])\n",
      "torch.Size([256, 10])\n",
      "torch.Size([256, 10])\n",
      "torch.Size([256, 10])\n",
      "torch.Size([256, 10])\n",
      "torch.Size([256, 10])\n",
      "torch.Size([256, 10])\n",
      "torch.Size([256, 10])\n",
      "torch.Size([256, 10])\n",
      "torch.Size([256, 10])\n",
      "torch.Size([256, 10])\n",
      "torch.Size([256, 10])\n",
      "torch.Size([256, 10])\n",
      "torch.Size([256, 10])\n",
      "torch.Size([256, 10])\n",
      "torch.Size([256, 10])\n",
      "torch.Size([256, 10])\n",
      "torch.Size([256, 10])\n",
      "torch.Size([256, 10])\n",
      "torch.Size([256, 10])\n",
      "torch.Size([256, 10])\n",
      "torch.Size([256, 10])\n",
      "torch.Size([256, 10])\n",
      "torch.Size([256, 10])\n",
      "torch.Size([256, 10])\n",
      "torch.Size([256, 10])\n",
      "torch.Size([256, 10])\n",
      "torch.Size([256, 10])\n",
      "torch.Size([256, 10])\n",
      "torch.Size([256, 10])\n",
      "torch.Size([256, 10])\n",
      "torch.Size([256, 10])\n",
      "torch.Size([256, 10])\n",
      "torch.Size([256, 10])\n",
      "torch.Size([256, 10])\n",
      "torch.Size([256, 10])\n",
      "torch.Size([256, 10])\n",
      "torch.Size([256, 10])\n",
      "torch.Size([256, 10])\n",
      "torch.Size([256, 10])\n",
      "torch.Size([256, 10])\n",
      "torch.Size([256, 10])\n",
      "torch.Size([256, 10])\n",
      "torch.Size([256, 10])\n",
      "torch.Size([256, 10])\n",
      "torch.Size([256, 10])\n",
      "torch.Size([256, 10])\n",
      "torch.Size([256, 10])\n",
      "torch.Size([256, 10])\n",
      "torch.Size([256, 10])\n",
      "torch.Size([256, 10])\n",
      "torch.Size([256, 10])\n",
      "torch.Size([256, 10])\n",
      "torch.Size([256, 10])\n",
      "torch.Size([256, 10])\n",
      "torch.Size([256, 10])\n",
      "torch.Size([256, 10])\n",
      "torch.Size([256, 10])\n",
      "torch.Size([256, 10])\n",
      "torch.Size([256, 10])\n",
      "torch.Size([256, 10])\n",
      "torch.Size([256, 10])\n",
      "torch.Size([256, 10])\n",
      "torch.Size([256, 10])\n",
      "torch.Size([256, 10])\n",
      "torch.Size([256, 10])\n",
      "torch.Size([256, 10])\n",
      "torch.Size([256, 10])\n",
      "torch.Size([256, 10])\n",
      "torch.Size([256, 10])\n",
      "torch.Size([256, 10])\n",
      "torch.Size([256, 10])\n",
      "torch.Size([256, 10])\n",
      "torch.Size([256, 10])\n",
      "torch.Size([256, 10])\n",
      "torch.Size([256, 10])\n",
      "torch.Size([256, 10])\n",
      "torch.Size([256, 10])\n",
      "torch.Size([256, 10])\n",
      "torch.Size([256, 10])\n",
      "torch.Size([256, 10])\n",
      "torch.Size([256, 10])\n",
      "torch.Size([256, 10])\n",
      "torch.Size([256, 10])\n",
      "torch.Size([256, 10])\n",
      "torch.Size([256, 10])\n",
      "torch.Size([256, 10])\n",
      "torch.Size([256, 10])\n",
      "torch.Size([256, 10])\n",
      "torch.Size([256, 10])\n",
      "torch.Size([256, 10])\n",
      "torch.Size([256, 10])\n",
      "torch.Size([256, 10])\n",
      "torch.Size([256, 10])\n",
      "torch.Size([256, 10])\n",
      "torch.Size([256, 10])\n",
      "torch.Size([256, 10])\n",
      "torch.Size([256, 10])\n",
      "torch.Size([256, 10])\n",
      "torch.Size([256, 10])\n",
      "torch.Size([256, 10])\n",
      "torch.Size([256, 10])\n",
      "torch.Size([256, 10])\n",
      "torch.Size([256, 10])\n",
      "torch.Size([256, 10])\n",
      "torch.Size([256, 10])\n",
      "torch.Size([256, 10])\n",
      "torch.Size([256, 10])\n",
      "torch.Size([256, 10])\n",
      "torch.Size([256, 10])\n",
      "torch.Size([256, 10])\n",
      "torch.Size([256, 10])\n",
      "torch.Size([256, 10])\n",
      "torch.Size([256, 10])\n",
      "torch.Size([256, 10])\n",
      "torch.Size([256, 10])\n",
      "torch.Size([256, 10])\n",
      "torch.Size([256, 10])\n",
      "torch.Size([256, 10])\n",
      "torch.Size([256, 10])\n",
      "torch.Size([256, 10])\n",
      "torch.Size([256, 10])\n",
      "torch.Size([256, 10])\n",
      "torch.Size([256, 10])\n",
      "torch.Size([256, 10])\n",
      "torch.Size([256, 10])\n",
      "torch.Size([256, 10])\n",
      "torch.Size([256, 10])\n",
      "torch.Size([256, 10])\n",
      "torch.Size([256, 10])\n",
      "torch.Size([256, 10])\n",
      "torch.Size([256, 10])\n",
      "torch.Size([256, 10])\n",
      "torch.Size([256, 10])\n",
      "torch.Size([256, 10])\n",
      "torch.Size([256, 10])\n",
      "torch.Size([256, 10])\n",
      "torch.Size([256, 10])\n",
      "torch.Size([256, 10])\n",
      "torch.Size([256, 10])\n",
      "torch.Size([256, 10])\n",
      "torch.Size([256, 10])\n",
      "torch.Size([256, 10])\n",
      "torch.Size([256, 10])\n",
      "torch.Size([256, 10])\n",
      "torch.Size([256, 10])\n",
      "torch.Size([256, 10])\n",
      "torch.Size([256, 10])\n",
      "torch.Size([256, 10])\n",
      "torch.Size([256, 10])\n",
      "torch.Size([256, 10])\n",
      "torch.Size([256, 10])\n",
      "torch.Size([256, 10])\n",
      "torch.Size([256, 10])\n",
      "torch.Size([256, 10])\n",
      "torch.Size([256, 10])\n",
      "torch.Size([256, 10])\n",
      "torch.Size([256, 10])\n",
      "torch.Size([256, 10])\n",
      "torch.Size([256, 10])\n",
      "torch.Size([256, 10])\n",
      "torch.Size([256, 10])\n",
      "torch.Size([256, 10])\n",
      "torch.Size([256, 10])\n",
      "torch.Size([256, 10])\n",
      "torch.Size([256, 10])\n",
      "torch.Size([256, 10])\n",
      "torch.Size([256, 10])\n",
      "torch.Size([256, 10])\n",
      "torch.Size([256, 10])\n",
      "torch.Size([256, 10])\n",
      "torch.Size([256, 10])\n",
      "torch.Size([256, 10])\n",
      "torch.Size([256, 10])\n",
      "torch.Size([256, 10])\n",
      "torch.Size([256, 10])\n",
      "torch.Size([256, 10])\n",
      "torch.Size([256, 10])\n",
      "torch.Size([256, 10])\n",
      "torch.Size([256, 10])\n",
      "torch.Size([256, 10])\n",
      "torch.Size([256, 10])\n",
      "torch.Size([256, 10])\n",
      "torch.Size([256, 10])\n",
      "torch.Size([256, 10])\n",
      "torch.Size([256, 10])\n",
      "torch.Size([123, 10])\n"
     ]
    }
   ],
   "source": [
    "for x,y in sup_loader:\n",
    "    print(y.shape)"
   ]
  },
  {
   "cell_type": "code",
   "execution_count": 28,
   "metadata": {},
   "outputs": [
    {
     "name": "stdout",
     "output_type": "stream",
     "text": [
      "[epoch 000]  average training loss: 200.3975\n",
      "[epoch 000]  average test loss: 164.2265\n",
      "[epoch 005]  average training loss: 120.9457\n",
      "[epoch 005]  average test loss: 117.8397\n",
      "[epoch 010]  average training loss: 111.7375\n",
      "[epoch 010]  average test loss: 109.6652\n",
      "[epoch 015]  average training loss: 108.6398\n",
      "[epoch 015]  average test loss: 107.0708\n",
      "[epoch 020]  average training loss: 107.0013\n",
      "[epoch 020]  average test loss: 105.8511\n",
      "[epoch 025]  average training loss: 106.0211\n",
      "[epoch 025]  average test loss: 104.9189\n"
     ]
    }
   ],
   "source": [
    "\n",
    "\n",
    "# setup the VAE\n",
    "vae = VAE(use_cuda=use_cuda, z_dim=50, hidden_dim=400, input_dim=784, binary=True)\n",
    "\n",
    "# setup the optimizer\n",
    "adam_args = {\"lr\": 1.0e-3}\n",
    "optimizer = Adam(adam_args)\n",
    "\n",
    "# setup the inference algorithm\n",
    "elbo = Trace_ELBO()\n",
    "svi = SVI(vae.model, vae.guide, optimizer, loss=elbo)\n",
    "\n",
    "train_elbo = {}\n",
    "test_elbo = {}\n",
    "# training loop\n",
    "num_epochs = 30\n",
    "for epoch in range(num_epochs):\n",
    "    # initialize loss accumulator\n",
    "    epoch_loss = 0.0\n",
    "    # do a training epoch over each mini-batch x returned\n",
    "    # by the data loader\n",
    "    for x, _ in train_loader:\n",
    "        # if on GPU put mini-batch into CUDA memory\n",
    "        if use_cuda:\n",
    "            x = x.cuda()\n",
    "        # do ELBO gradient and accumulate loss\n",
    "        epoch_loss += svi.step(x)\n",
    "\n",
    "    if epoch % 5 == 0:\n",
    "        # report training diagnostics\n",
    "        normalizer_train = len(train_loader.dataset)\n",
    "        total_epoch_loss_train = epoch_loss / normalizer_train\n",
    "        train_elbo[epoch] = total_epoch_loss_train\n",
    "        print(\"[epoch %03d]  average training loss: %.4f\" % (epoch, total_epoch_loss_train))\n",
    "        \n",
    "        # initialize loss accumulator\n",
    "        test_loss = 0.0\n",
    "        # compute the loss over the entire test set\n",
    "        for i, (x, _) in enumerate(test_loader):\n",
    "            # if on GPU put mini-batch into CUDA memory\n",
    "            if use_cuda:\n",
    "                x = x.cuda()\n",
    "            # compute ELBO estimate and accumulate loss\n",
    "            test_loss += svi.evaluate_loss(x)\n",
    "\n",
    "        # report test diagnostics\n",
    "        normalizer_test = len(test_loader.dataset)\n",
    "    \n",
    "        total_epoch_loss_test = test_loss / normalizer_test\n",
    "        test_elbo[epoch] = total_epoch_loss_test\n",
    "        print(\"[epoch %03d]  average test loss: %.4f\" % (epoch, total_epoch_loss_test))\n",
    "        plot_llk(train_elbo, test_elbo)"
   ]
  },
  {
   "cell_type": "markdown",
   "metadata": {},
   "source": [
    "We can now look at the reconstructions produced by the VAE model for a subset of the digits in the dataset:"
   ]
  },
  {
   "cell_type": "code",
   "execution_count": 29,
   "metadata": {},
   "outputs": [
    {
     "data": {
      "image/png": "[encoded data removed]",
      "text/plain": [
       "<Figure size 600x2000 with 20 Axes>"
      ]
     },
     "metadata": {},
     "output_type": "display_data"
    }
   ],
   "source": [
    "# pick 10 random test images from the first mini-batch and visualize how well we're reconstructing them\n",
    "fig, axs = plt.subplots(10,2, figsize=(6,20))\n",
    "x = next(iter(test_loader))[0]\n",
    "# if on GPU put mini-batch into CUDA memory\n",
    "if use_cuda:\n",
    "    x = x.cuda()\n",
    "#plot_vae_samples(vae, vis)\n",
    "reco_indices = np.random.randint(0, x.shape[0], 10)\n",
    "for i in range(10):\n",
    "    index = reco_indices[i]\n",
    "    test_img = x[index, :]\n",
    "    reco_img = vae.reconstruct_img(test_img)\n",
    "    #vis.image(\n",
    "    #    test_img.reshape(28, 28).detach().cpu().numpy(),\n",
    "    #    opts={\"caption\": \"test image\"},\n",
    "    #)\n",
    "    #vis.image(\n",
    "    #    reco_img.reshape(28, 28).detach().cpu().numpy(),\n",
    "    #    opts={\"caption\": \"reconstructed image\"},\n",
    "    #)\n",
    "    axs[i,0].imshow(test_img.reshape(28, 28).detach().cpu().numpy(), cmap=\"Greys\")\n",
    "    axs[i,1].imshow(reco_img.reshape(28, 28).detach().cpu().numpy(), cmap=\"Greys\")\n",
    "    \n",
    "axs[0,0].set_title(\"True image\");\n",
    "axs[0,1].set_title(\"Reconstruction\");"
   ]
  },
  {
   "cell_type": "code",
   "execution_count": 30,
   "metadata": {},
   "outputs": [
    {
     "name": "stdout",
     "output_type": "stream",
     "text": [
      "tensor([[0., 0., 0., 0., 0., 0., 0., 0., 1., 0.],\n",
      "        [0., 0., 0., 0., 0., 0., 0., 0., 1., 0.],\n",
      "        [0., 0., 0., 0., 0., 0., 0., 0., 1., 0.],\n",
      "        [0., 0., 0., 0., 1., 0., 0., 0., 0., 0.],\n",
      "        [0., 0., 0., 0., 0., 0., 1., 0., 0., 0.],\n",
      "        [1., 0., 0., 0., 0., 0., 0., 0., 0., 0.],\n",
      "        [0., 0., 0., 1., 0., 0., 0., 0., 0., 0.],\n",
      "        [0., 0., 0., 0., 0., 0., 0., 0., 0., 1.],\n",
      "        [0., 0., 0., 0., 0., 0., 1., 0., 0., 0.],\n",
      "        [0., 0., 0., 1., 0., 0., 0., 0., 0., 0.]])\n"
     ]
    }
   ],
   "source": [
    "# Grab the first batch from test_loader\n",
    "x_batch, y_batch = next(iter(test_loader))\n",
    "\n",
    "# Print the first 10 labels\n",
    "print(y_batch[:10])"
   ]
  },
  {
   "cell_type": "markdown",
   "metadata": {},
   "source": [
    "We can also try to visualize the projections of the digits in the latent space. However, in this case, the latent projections are still 50-dimensional!! We will need to project them down even further if we want to visualize them on a 2-D plot. For this, we will use a dimensionality reduction called t-SNE. t-SNE tries to project down the data while attempting to perserve the (Euclidean) distances between all pairs of data points (observations) in the dataset. Lets do that and see how it looks:"
   ]
  },
  {
   "cell_type": "code",
   "execution_count": 31,
   "metadata": {},
   "outputs": [
    {
     "name": "stderr",
     "output_type": "stream",
     "text": [
      "/Users/work/Documents/model-based-machine-learning-ssvae/.venv/lib/python3.9/site-packages/torchvision/datasets/mnist.py:81: UserWarning: test_data has been renamed data\n",
      "  warnings.warn(\"test_data has been renamed data\")\n",
      "/Users/work/Documents/model-based-machine-learning-ssvae/.venv/lib/python3.9/site-packages/torchvision/datasets/mnist.py:71: UserWarning: test_labels has been renamed targets\n",
      "  warnings.warn(\"test_labels has been renamed targets\")\n",
      "/Users/work/Documents/model-based-machine-learning-ssvae/.venv/lib/python3.9/site-packages/sklearn/utils/extmath.py:335: RuntimeWarning: divide by zero encountered in matmul\n",
      "  Q, _ = normalizer(A @ Q)\n",
      "/Users/work/Documents/model-based-machine-learning-ssvae/.venv/lib/python3.9/site-packages/sklearn/utils/extmath.py:335: RuntimeWarning: overflow encountered in matmul\n",
      "  Q, _ = normalizer(A @ Q)\n",
      "/Users/work/Documents/model-based-machine-learning-ssvae/.venv/lib/python3.9/site-packages/sklearn/utils/extmath.py:335: RuntimeWarning: invalid value encountered in matmul\n",
      "  Q, _ = normalizer(A @ Q)\n",
      "/Users/work/Documents/model-based-machine-learning-ssvae/.venv/lib/python3.9/site-packages/sklearn/utils/extmath.py:336: RuntimeWarning: divide by zero encountered in matmul\n",
      "  Q, _ = normalizer(A.T @ Q)\n",
      "/Users/work/Documents/model-based-machine-learning-ssvae/.venv/lib/python3.9/site-packages/sklearn/utils/extmath.py:336: RuntimeWarning: overflow encountered in matmul\n",
      "  Q, _ = normalizer(A.T @ Q)\n",
      "/Users/work/Documents/model-based-machine-learning-ssvae/.venv/lib/python3.9/site-packages/sklearn/utils/extmath.py:336: RuntimeWarning: invalid value encountered in matmul\n",
      "  Q, _ = normalizer(A.T @ Q)\n",
      "/Users/work/Documents/model-based-machine-learning-ssvae/.venv/lib/python3.9/site-packages/sklearn/utils/extmath.py:340: RuntimeWarning: divide by zero encountered in matmul\n",
      "  Q, _ = qr_normalizer(A @ Q)\n",
      "/Users/work/Documents/model-based-machine-learning-ssvae/.venv/lib/python3.9/site-packages/sklearn/utils/extmath.py:340: RuntimeWarning: overflow encountered in matmul\n",
      "  Q, _ = qr_normalizer(A @ Q)\n",
      "/Users/work/Documents/model-based-machine-learning-ssvae/.venv/lib/python3.9/site-packages/sklearn/utils/extmath.py:340: RuntimeWarning: invalid value encountered in matmul\n",
      "  Q, _ = qr_normalizer(A @ Q)\n",
      "/Users/work/Documents/model-based-machine-learning-ssvae/.venv/lib/python3.9/site-packages/sklearn/utils/extmath.py:533: RuntimeWarning: divide by zero encountered in matmul\n",
      "  B = Q.T @ M\n",
      "/Users/work/Documents/model-based-machine-learning-ssvae/.venv/lib/python3.9/site-packages/sklearn/utils/extmath.py:533: RuntimeWarning: overflow encountered in matmul\n",
      "  B = Q.T @ M\n",
      "/Users/work/Documents/model-based-machine-learning-ssvae/.venv/lib/python3.9/site-packages/sklearn/utils/extmath.py:533: RuntimeWarning: invalid value encountered in matmul\n",
      "  B = Q.T @ M\n",
      "/Users/work/Documents/model-based-machine-learning-ssvae/.venv/lib/python3.9/site-packages/sklearn/utils/extmath.py:547: RuntimeWarning: divide by zero encountered in matmul\n",
      "  U = Q @ Uhat\n",
      "/Users/work/Documents/model-based-machine-learning-ssvae/.venv/lib/python3.9/site-packages/sklearn/utils/extmath.py:547: RuntimeWarning: overflow encountered in matmul\n",
      "  U = Q @ Uhat\n",
      "/Users/work/Documents/model-based-machine-learning-ssvae/.venv/lib/python3.9/site-packages/sklearn/utils/extmath.py:547: RuntimeWarning: invalid value encountered in matmul\n",
      "  U = Q @ Uhat\n"
     ]
    }
   ],
   "source": [
    "mnist_test_tsne(vae=vae, test_loader=test_loader)"
   ]
  },
  {
   "cell_type": "markdown",
   "metadata": {},
   "source": [
    "As we can see, the observations of the different digits are nicely separated (clustered) in the latent space $\\textbf{z}$. I.e., all observations of the digit 5 are clustered together in the latent space, and similarly for other digits.\n",
    "\n",
    "Lastly, since the VAE is a generative model, we can use it to sample new observations (\"fake data\"). We can do this by sampling $z$ from a standard Gaussian distribution and passing those samples through the decoder network. \n",
    "\n",
    "Lets do this to generate 10 new samples of digit images:"
   ]
  },
  {
   "cell_type": "code",
   "execution_count": 32,
   "metadata": {},
   "outputs": [],
   "source": [
    "plt.figure()\n",
    "for i in range(10):\n",
    "    z_loc = torch.zeros(vae.z_dim, dtype=x.dtype, device=x.device)\n",
    "    z_scale = torch.ones(vae.z_dim, dtype=x.dtype, device=x.device)\n",
    "    z = dist.Normal(z_loc, z_scale).rsample()\n",
    "    out = vae.decoder.forward(z)\n",
    "    # plt.figure(figsize=(3,3))\n",
    "    plt.imshow(out.reshape(28, 28).detach().cpu().numpy(), cmap=\"Greys\")"
   ]
  },
  {
   "cell_type": "markdown",
   "metadata": {},
   "source": [
    "\n",
    "------------------------------------------------------------------------\n",
    "\n",
    "--------------------------------------------------------------------------------\n",
    "2) Define a Pyro model and guide for a multiclass linear classifier\n",
    "--------------------------------------------------------------------------------\n",
    "\n",
    "We will create a K-class linear model y ∼ Categorical(logits = z_loc @ W + b).  \n",
    "\n",
    "Note: for Iris, K=3 classes, but this approach generalizes to any K ≥ 2.\n",
    "\n",
    "------------------------------------------------------------------------"
   ]
  },
  {
   "cell_type": "code",
   "execution_count": 33,
   "metadata": {},
   "outputs": [],
   "source": [
    "\n",
    "num_classes = 10 # e.g., 3 for Iris\n"
   ]
  },
  {
   "cell_type": "code",
   "execution_count": 57,
   "metadata": {},
   "outputs": [],
   "source": [
    "def classifier_model(x, obs=None):\n",
    "    z = vae.encoder(x)[0]\n",
    "    alpha = pyro.sample(\"alpha\", pyro.distributions.Normal(0., 1.).expand( [num_classes]).to_event())\n",
    "    beta = pyro.sample(\"beta\", pyro.distributions.Normal(0., 1.).expand([z.shape[1], num_classes]).to_event())\n",
    "    logits =   z @ beta + alpha\n",
    "    with pyro.plate(\"data\", z.shape[0]):\n",
    "        y = pyro.sample(\"y\", pyro.distributions.Categorical(logits=logits), obs=obs)"
   ]
  },
  {
   "cell_type": "markdown",
   "metadata": {},
   "source": [
    "\n",
    "------------------------------------------------------------------------\n",
    "\n",
    "--------------------------------------------------------------------------------\n",
    "3) Train the classifier in Pyro using SVI\n",
    "--------------------------------------------------------------------------------\n",
    "\n",
    "You can run standard Pyro SVI over these model/guide definitions. For example:\n",
    "\n",
    "------------------------------------------------------------------------"
   ]
  },
  {
   "cell_type": "code",
   "execution_count": 35,
   "metadata": {},
   "outputs": [],
   "source": [
    "from pyro.contrib.autoguide import AutoDiagonalNormal, AutoMultivariateNormal\n"
   ]
  },
  {
   "cell_type": "code",
   "execution_count": 58,
   "metadata": {},
   "outputs": [
    {
     "name": "stdout",
     "output_type": "stream",
     "text": [
      "[step 0] loss = 68717145.80\n",
      "[step 5] loss = 69457732.98\n",
      "[step 10] loss = 70182510.53\n",
      "[step 15] loss = 70903604.92\n",
      "[step 20] loss = 71624578.13\n",
      "[step 25] loss = 72345964.93\n",
      "[step 30] loss = 73066031.29\n",
      "[step 35] loss = 73785937.18\n",
      "[step 40] loss = 74506854.72\n",
      "[step 45] loss = 75228975.77\n",
      "[step 50] loss = 75948320.48\n",
      "[step 55] loss = 76669598.81\n",
      "[step 60] loss = 77389376.91\n",
      "[step 65] loss = 78109788.62\n",
      "[step 70] loss = 78832006.04\n",
      "[step 75] loss = 79552897.56\n",
      "[step 80] loss = 80274190.79\n",
      "[step 85] loss = 80995042.78\n",
      "[step 90] loss = 81715278.67\n",
      "[step 95] loss = 82434781.62\n"
     ]
    }
   ],
   "source": [
    "# Clear out any existing parameter values\n",
    "pyro.clear_param_store()\n",
    "\n",
    "classifier_guide = AutoMultivariateNormal(classifier_model)\n",
    "\n",
    "optimizer = Adam({\"lr\": 1.0e-2})\n",
    "# Setup SVI\n",
    "svi_classifier = SVI(\n",
    "    model=classifier_model,\n",
    "    guide=classifier_guide,\n",
    "    optim=optimizer,\n",
    "    loss=Trace_ELBO(),\n",
    ")\n",
    "num_steps = 100  # Adjust as needed\n",
    "for step in range(num_steps):\n",
    "    for x, y in sup_loader:\n",
    "        # if on GPU put mini-batch into CUDA memory\n",
    "        if use_cuda:\n",
    "            x = x.cuda()\n",
    "            y = y.cuda()\n",
    "        y = np.argmax(y, axis=1) # FIX THIS. Ensure that it is converted in the right way\n",
    "        # do ELBO gradient and accumulate loss\n",
    "        epoch_loss += svi_classifier.step(x, y)\n",
    "    if step % 5 == 0:\n",
    "        print(f\"[step {step}] loss = {epoch_loss:.2f}\")\n"
   ]
  },
  {
   "cell_type": "code",
   "execution_count": null,
   "metadata": {},
   "outputs": [
    {
     "ename": "KeyError",
     "evalue": "'alpha'",
     "output_type": "error",
     "traceback": [
      "\u001b[0;31m---------------------------------------------------------------------------\u001b[0m",
      "\u001b[0;31mKeyError\u001b[0m                                  Traceback (most recent call last)",
      "Cell \u001b[0;32mIn[62], line 1\u001b[0m\n\u001b[0;32m----> 1\u001b[0m alpha \u001b[38;5;241m=\u001b[39m \u001b[43mpyro\u001b[49m\u001b[38;5;241;43m.\u001b[39;49m\u001b[43mparam\u001b[49m\u001b[43m(\u001b[49m\u001b[38;5;124;43m\"\u001b[39;49m\u001b[38;5;124;43malpha\u001b[39;49m\u001b[38;5;124;43m\"\u001b[39;49m\u001b[43m)\u001b[49m\n\u001b[1;32m      2\u001b[0m beta \u001b[38;5;241m=\u001b[39m pyro\u001b[38;5;241m.\u001b[39mparam(\u001b[38;5;124m\"\u001b[39m\u001b[38;5;124mbeta\u001b[39m\u001b[38;5;124m\"\u001b[39m)\n",
      "File \u001b[0;32m~/Documents/model-based-machine-learning-ssvae/.venv/lib/python3.9/site-packages/pyro/primitives.py:88\u001b[0m, in \u001b[0;36mparam\u001b[0;34m(name, init_tensor, constraint, event_dim)\u001b[0m\n\u001b[1;32m     86\u001b[0m \u001b[38;5;66;03m# Note effectful(-) requires the double passing of name below.\u001b[39;00m\n\u001b[1;32m     87\u001b[0m args \u001b[38;5;241m=\u001b[39m (name,) \u001b[38;5;28;01mif\u001b[39;00m init_tensor \u001b[38;5;129;01mis\u001b[39;00m \u001b[38;5;28;01mNone\u001b[39;00m \u001b[38;5;28;01melse\u001b[39;00m (name, init_tensor)\n\u001b[0;32m---> 88\u001b[0m value \u001b[38;5;241m=\u001b[39m \u001b[43m_param\u001b[49m\u001b[43m(\u001b[49m\u001b[38;5;241;43m*\u001b[39;49m\u001b[43margs\u001b[49m\u001b[43m,\u001b[49m\u001b[43m \u001b[49m\u001b[43mconstraint\u001b[49m\u001b[38;5;241;43m=\u001b[39;49m\u001b[43mconstraint\u001b[49m\u001b[43m,\u001b[49m\u001b[43m \u001b[49m\u001b[43mevent_dim\u001b[49m\u001b[38;5;241;43m=\u001b[39;49m\u001b[43mevent_dim\u001b[49m\u001b[43m,\u001b[49m\u001b[43m \u001b[49m\u001b[43mname\u001b[49m\u001b[38;5;241;43m=\u001b[39;49m\u001b[43mname\u001b[49m\u001b[43m)\u001b[49m\n\u001b[1;32m     89\u001b[0m \u001b[38;5;28;01massert\u001b[39;00m value \u001b[38;5;129;01mis\u001b[39;00m \u001b[38;5;129;01mnot\u001b[39;00m \u001b[38;5;28;01mNone\u001b[39;00m  \u001b[38;5;66;03m# type narrowing guaranteed by _param\u001b[39;00m\n\u001b[1;32m     90\u001b[0m \u001b[38;5;28;01mreturn\u001b[39;00m value\n",
      "File \u001b[0;32m~/Documents/model-based-machine-learning-ssvae/.venv/lib/python3.9/site-packages/pyro/poutine/runtime.py:442\u001b[0m, in \u001b[0;36meffectful.<locals>._fn\u001b[0;34m(name, infer, obs, *args, **kwargs)\u001b[0m\n\u001b[1;32m    439\u001b[0m is_observed \u001b[38;5;241m=\u001b[39m obs \u001b[38;5;129;01mis\u001b[39;00m \u001b[38;5;129;01mnot\u001b[39;00m \u001b[38;5;28;01mNone\u001b[39;00m\n\u001b[1;32m    441\u001b[0m \u001b[38;5;28;01mif\u001b[39;00m \u001b[38;5;129;01mnot\u001b[39;00m am_i_wrapped():\n\u001b[0;32m--> 442\u001b[0m     \u001b[38;5;28;01mreturn\u001b[39;00m \u001b[43mfn\u001b[49m\u001b[43m(\u001b[49m\u001b[38;5;241;43m*\u001b[39;49m\u001b[43margs\u001b[49m\u001b[43m,\u001b[49m\u001b[43m \u001b[49m\u001b[38;5;241;43m*\u001b[39;49m\u001b[38;5;241;43m*\u001b[39;49m\u001b[43mkwargs\u001b[49m\u001b[43m)\u001b[49m\n\u001b[1;32m    443\u001b[0m \u001b[38;5;28;01melse\u001b[39;00m:\n\u001b[1;32m    444\u001b[0m     msg \u001b[38;5;241m=\u001b[39m Message(\n\u001b[1;32m    445\u001b[0m         \u001b[38;5;28mtype\u001b[39m\u001b[38;5;241m=\u001b[39m\u001b[38;5;28mtype\u001b[39m,\n\u001b[1;32m    446\u001b[0m         name\u001b[38;5;241m=\u001b[39mname,\n\u001b[0;32m   (...)\u001b[0m\n\u001b[1;32m    458\u001b[0m         infer\u001b[38;5;241m=\u001b[39minfer \u001b[38;5;28;01mif\u001b[39;00m infer \u001b[38;5;129;01mis\u001b[39;00m \u001b[38;5;129;01mnot\u001b[39;00m \u001b[38;5;28;01mNone\u001b[39;00m \u001b[38;5;28;01melse\u001b[39;00m {},\n\u001b[1;32m    459\u001b[0m     )\n",
      "File \u001b[0;32m~/Documents/model-based-machine-learning-ssvae/.venv/lib/python3.9/site-packages/pyro/params/param_store.py:249\u001b[0m, in \u001b[0;36mParamStoreDict.get_param\u001b[0;34m(self, name, init_tensor, constraint, event_dim)\u001b[0m\n\u001b[1;32m    233\u001b[0m \u001b[38;5;250m\u001b[39m\u001b[38;5;124;03m\"\"\"\u001b[39;00m\n\u001b[1;32m    234\u001b[0m \u001b[38;5;124;03mGet parameter from its name. If it does not yet exist in the\u001b[39;00m\n\u001b[1;32m    235\u001b[0m \u001b[38;5;124;03mParamStore, it will be created and stored.\u001b[39;00m\n\u001b[0;32m   (...)\u001b[0m\n\u001b[1;32m    246\u001b[0m \u001b[38;5;124;03m:rtype: torch.Tensor\u001b[39;00m\n\u001b[1;32m    247\u001b[0m \u001b[38;5;124;03m\"\"\"\u001b[39;00m\n\u001b[1;32m    248\u001b[0m \u001b[38;5;28;01mif\u001b[39;00m init_tensor \u001b[38;5;129;01mis\u001b[39;00m \u001b[38;5;28;01mNone\u001b[39;00m:\n\u001b[0;32m--> 249\u001b[0m     \u001b[38;5;28;01mreturn\u001b[39;00m \u001b[38;5;28;43mself\u001b[39;49m\u001b[43m[\u001b[49m\u001b[43mname\u001b[49m\u001b[43m]\u001b[49m\n\u001b[1;32m    250\u001b[0m \u001b[38;5;28;01melse\u001b[39;00m:\n\u001b[1;32m    251\u001b[0m     \u001b[38;5;28;01mreturn\u001b[39;00m \u001b[38;5;28mself\u001b[39m\u001b[38;5;241m.\u001b[39msetdefault(name, init_tensor, constraint)\n",
      "File \u001b[0;32m~/Documents/model-based-machine-learning-ssvae/.venv/lib/python3.9/site-packages/pyro/params/param_store.py:129\u001b[0m, in \u001b[0;36mParamStoreDict.__getitem__\u001b[0;34m(self, name)\u001b[0m\n\u001b[1;32m    125\u001b[0m \u001b[38;5;28;01mdef\u001b[39;00m\u001b[38;5;250m \u001b[39m\u001b[38;5;21m__getitem__\u001b[39m(\u001b[38;5;28mself\u001b[39m, name: \u001b[38;5;28mstr\u001b[39m) \u001b[38;5;241m-\u001b[39m\u001b[38;5;241m>\u001b[39m torch\u001b[38;5;241m.\u001b[39mTensor:\n\u001b[1;32m    126\u001b[0m \u001b[38;5;250m    \u001b[39m\u001b[38;5;124;03m\"\"\"\u001b[39;00m\n\u001b[1;32m    127\u001b[0m \u001b[38;5;124;03m    Get the *constrained* value of a named parameter.\u001b[39;00m\n\u001b[1;32m    128\u001b[0m \u001b[38;5;124;03m    \"\"\"\u001b[39;00m\n\u001b[0;32m--> 129\u001b[0m     unconstrained_value \u001b[38;5;241m=\u001b[39m \u001b[38;5;28;43mself\u001b[39;49m\u001b[38;5;241;43m.\u001b[39;49m\u001b[43m_params\u001b[49m\u001b[43m[\u001b[49m\u001b[43mname\u001b[49m\u001b[43m]\u001b[49m\n\u001b[1;32m    131\u001b[0m     \u001b[38;5;66;03m# compute the constrained value\u001b[39;00m\n\u001b[1;32m    132\u001b[0m     constraint \u001b[38;5;241m=\u001b[39m \u001b[38;5;28mself\u001b[39m\u001b[38;5;241m.\u001b[39m_constraints[name]\n",
      "\u001b[0;31mKeyError\u001b[0m: 'alpha'"
     ]
    }
   ],
   "source": [
    "\n",
    "alpha = pyro.param(\"alpha\")\n",
    "beta = pyro.param(\"beta\")"
   ]
  },
  {
   "cell_type": "code",
   "execution_count": 61,
   "metadata": {},
   "outputs": [
    {
     "data": {
      "image/png": "[encoded data removed]",
      "text/plain": [
       "<Figure size 600x2000 with 20 Axes>"
      ]
     },
     "metadata": {},
     "output_type": "display_data"
    }
   ],
   "source": [
    "# pick 10 random test images from the first mini-batch and visualize how well we're reconstructing them\n",
    "fig, axs = plt.subplots(10,2, figsize=(6,20))\n",
    "x = next(iter(sup_loader))[0]\n",
    "# if on GPU put mini-batch into CUDA memory\n",
    "if use_cuda:\n",
    "    x = x.cuda()\n",
    "#plot_vae_samples(vae, vis)\n",
    "reco_indices = np.random.randint(0, x.shape[0], 10)\n",
    "for i in range(10):\n",
    "    index = reco_indices[i]\n",
    "    test_img = x[index, :]\n",
    "    reco_img = vae.reconstruct_img(test_img)\n",
    "    axs[i,0].imshow(test_img.reshape(28, 28).detach().cpu().numpy(), cmap=\"Greys\")\n",
    "    axs[i,1].imshow(reco_img.reshape(28, 28).detach().cpu().numpy(), cmap=\"Greys\")\n",
    "    \n",
    "axs[0,0].set_title(\"True image\");\n",
    "axs[0,1].set_title(\"Reconstruction\");\n",
    "\n",
    "\n",
    "# Get true labels\n",
    "true_labels = torch.argmax(y_batch[reco_indices], dim=1)\n",
    "\n",
    "for i in range(10):\n",
    "    index = reco_indices[i]\n",
    "    axs[i,0].set_xlabel(f\"True: {true_labels[i].item()}\")\n",
    "    # axs[i,1].set_xlabel(f\"Predicted: {predicted_labels[i].item()}\")"
   ]
  },
  {
   "cell_type": "code",
   "execution_count": null,
   "metadata": {},
   "outputs": [
    {
     "data": {
      "text/plain": [
       "<matplotlib.image.AxesImage at 0x3df641370>"
      ]
     },
     "execution_count": 348,
     "metadata": {},
     "output_type": "execute_result"
    }
   ],
   "source": [
    "plt.imshow(reco_img.reshape(28, 28).detach().cpu().numpy())"
   ]
  },
  {
   "cell_type": "code",
   "execution_count": 41,
   "metadata": {},
   "outputs": [],
   "source": [
    "%matplotlib inline\n"
   ]
  },
  {
   "cell_type": "code",
   "execution_count": null,
   "metadata": {},
   "outputs": [],
   "source": []
  },
  {
   "cell_type": "code",
   "execution_count": null,
   "metadata": {},
   "outputs": [],
   "source": []
  },
  {
   "cell_type": "markdown",
   "metadata": {},
   "source": []
  }
 ],
 "metadata": {
  "colab": {
   "collapsed_sections": [],
   "name": "06 - Classification models - Part 4 - Pyro - solutions.ipynb",
   "provenance": [
    {
     "file_id": "1zDyH0gmY7AuI_B2WhQAOynB4OQT0DzLP",
     "timestamp": 1582453187450
    },
    {
     "file_id": "1oDcOaKqMYlOrjxBYZVdYlG1ftELfczp6",
     "timestamp": 1582450341637
    }
   ]
  },
  "kernelspec": {
   "display_name": ".venv",
   "language": "python",
   "name": "python3"
  },
  "language_info": {
   "codemirror_mode": {
    "name": "ipython",
    "version": 3
   },
   "file_extension": ".py",
   "mimetype": "text/x-python",
   "name": "python",
   "nbconvert_exporter": "python",
   "pygments_lexer": "ipython3",
   "version": "3.9.6"
  }
 },
 "nbformat": 4,
 "nbformat_minor": 0
}
