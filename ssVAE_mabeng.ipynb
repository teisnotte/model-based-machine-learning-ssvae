{
 "cells": [
  {
   "cell_type": "markdown",
   "metadata": {
    "id": "C60ZAm4-Yo4M"
   },
   "source": [
    "# Week 12 - Generative models  \n",
    "\n",
    "## Part 2: Variational Autoencoders (VAEs)\n",
    "\n"
   ]
  },
  {
   "cell_type": "markdown",
   "metadata": {
    "id": "VsSfbUYyiOP2"
   },
   "source": [
    "This part we move towards a non-linear mapping between the latent space z and the observation/input space x. Concretely, we will implement a VAE in Pyro."
   ]
  },
  {
   "cell_type": "markdown",
   "metadata": {
    "id": "zCHBydp2Yo4N"
   },
   "source": [
    "Import required libraries:"
   ]
  },
  {
   "cell_type": "code",
   "execution_count": 3,
   "metadata": {
    "colab": {
     "base_uri": "https://localhost:8080/"
    },
    "executionInfo": {
     "elapsed": 5377,
     "status": "ok",
     "timestamp": 1646648637408,
     "user": {
      "displayName": "Filipe Rodrigues",
      "photoUrl": "https://lh3.googleusercontent.com/a-/AOh14GgANv2Od365vLQDnVjoxw2PUote-kpb5nugTmcQwA=s64",
      "userId": "15636531912642599438"
     },
     "user_tz": -60
    },
    "id": "Ei1QbnmhYyXM",
    "outputId": "ff76128a-ac98-4741-e58e-00fb4a40241e"
   },
   "outputs": [],
   "source": [
    "# Install Pyro, if necessary\n",
    "#!pip install pyro-ppl"
   ]
  },
  {
   "cell_type": "code",
   "execution_count": 4,
   "metadata": {
    "executionInfo": {
     "elapsed": 4897,
     "status": "ok",
     "timestamp": 1646648642167,
     "user": {
      "displayName": "Filipe Rodrigues",
      "photoUrl": "https://lh3.googleusercontent.com/a-/AOh14GgANv2Od365vLQDnVjoxw2PUote-kpb5nugTmcQwA=s64",
      "userId": "15636531912642599438"
     },
     "user_tz": -60
    },
    "id": "iGyKT_grYo4O"
   },
   "outputs": [],
   "source": [
    "import numpy as np\n",
    "import torch\n",
    "import torch.nn as nn\n",
    "from mnist_cached import MNISTCached as MNIST\n",
    "from mnist_cached import setup_data_loaders\n",
    "from vae_plots import mnist_test_tsne, plot_llk, plot_vae_samples\n",
    "\n",
    "import pyro\n",
    "import pyro.distributions as dist\n",
    "from pyro.infer import SVI, Trace_ELBO\n",
    "from pyro.optim import Adam\n",
    "import pyro.poutine as poutine\n",
    "\n",
    "# fix random generator seed (for reproducibility of results)\n",
    "np.random.seed(42)\n",
    "\n",
    "# matplotlib style options\n",
    "from matplotlib import pyplot as plt\n",
    "plt.style.use('ggplot')\n",
    "%matplotlib inline\n",
    "plt.rcParams['figure.figsize'] = (12, 8)"
   ]
  },
  {
   "cell_type": "code",
   "execution_count": 5,
   "metadata": {},
   "outputs": [],
   "source": [
    "torch.manual_seed(1234)\n",
    "np.random.seed(1234)"
   ]
  },
  {
   "cell_type": "markdown",
   "metadata": {
    "id": "fG-46wBlYo5d"
   },
   "source": [
    "## Variational Autoencoders in Pyro\n",
    "\n",
    "We will now implement a VAE in Pyro. Let us begin by recapping the model introduced in the class. The generative process can be summarize as follows:\n",
    "\n",
    "1. For each observation $n \\in \\{1,\\dots,N\\}$\n",
    "    1. Sample latent projection $\\textbf{z}_n \\sim \\mathcal{N}(\\textbf{z}_n|\\textbf{0}, \\textbf{I})$\n",
    "    2. Sample observation $\\textbf{x}_n \\sim \\mathcal{N}(\\textbf{x}_n|f_{\\boldsymbol\\theta}(\\textbf{z}_n))$\n",
    "\n",
    "Note that the neural network $f$ is outputting both the mean and variance of the Gaussian. \n",
    "\n",
    "Our goal is to compute the posterior distribution over the latent variables $\\textbf{z}_n$, while jointly finding point estimates for the parameters of that neural network $\\boldsymbol\\theta$. Note that you could also treat $\\boldsymbol\\theta$ as latent variables and perform inference on them as well (i.e. a Bayesian neural network), but, for this particular model, point estimates are usually sufficient. \n",
    "\n",
    "We will also need an approximate distribution $q(\\textbf{z})$ for VI. As we saw in the slides, we will use a second neural network $g$ to parameterize this variational distribution $q$. Therefore, we can represent the entire process of the training a VAE as follows:\n",
    "\n",
    "<img style=\"width:50%\" src=\"http://mlsm.man.dtu.dk/vae.png\">\n",
    "\n",
    "In the diagram, $g$ is the encoder network and $f$ is the decoder network. Lets begin by implementing those two neural networks in Torch:"
   ]
  },
  {
   "cell_type": "code",
   "execution_count": 6,
   "metadata": {},
   "outputs": [],
   "source": [
    "# define the PyTorch module that parameterizes the\n",
    "# diagonal gaussian distribution q(z|x)\n",
    "class Encoder(nn.Module):\n",
    "    def __init__(self, z_dim, hidden_dim, input_dim):\n",
    "        self.input_dim = input_dim\n",
    "        super().__init__()\n",
    "        # setup the three linear transformations used\n",
    "        self.fc1 = nn.Linear(input_dim, hidden_dim)\n",
    "        self.fc21 = nn.Linear(hidden_dim, z_dim)\n",
    "        self.fc22 = nn.Linear(hidden_dim, z_dim)\n",
    "        # setup the non-linearities\n",
    "        self.softplus = nn.Softplus()\n",
    "\n",
    "    def forward(self, x):\n",
    "        # define the forward computation on the image x\n",
    "        # first shape the mini-batch to have pixels in the rightmost dimension\n",
    "        x = x.reshape(-1, self.input_dim)\n",
    "        # then compute the hidden units\n",
    "        hidden = self.softplus(self.fc1(x))\n",
    "        # then return a mean vector and a (positive) square root covariance\n",
    "        # each of size batch_size x z_dim\n",
    "        z_loc = self.fc21(hidden)\n",
    "        z_scale = torch.exp(self.fc22(hidden))\n",
    "        return z_loc, z_scale\n",
    "\n",
    "\n",
    "# define the PyTorch module that parameterizes the\n",
    "# observation likelihood p(x|z)\n",
    "class Decoder(nn.Module):\n",
    "    def __init__(self, z_dim, hidden_dim, output_dim, binary=False):\n",
    "        self.binary = binary\n",
    "        super().__init__()\n",
    "        # setup the two linear transformations used\n",
    "        self.fc1 = nn.Linear(z_dim, hidden_dim)\n",
    "        self.fc21 = nn.Linear(hidden_dim, output_dim)\n",
    "        if not self.binary:\n",
    "            self.fc22 = nn.Linear(hidden_dim, output_dim)\n",
    "        # setup the non-linearities\n",
    "        self.softplus = nn.Softplus()\n",
    "\n",
    "    def forward(self, z):\n",
    "        # define the forward computation on the latent z\n",
    "        # first compute the hidden units\n",
    "        hidden = self.softplus(self.fc1(z))\n",
    "        # return the parameter for the output Bernoulli\n",
    "        # each is of size batch_size x input_dim\n",
    "        if self.binary:\n",
    "            out = torch.sigmoid(self.fc21(hidden))\n",
    "        else:\n",
    "            out = (self.fc21(hidden), self.softplus(self.fc22(hidden)))\n",
    "        return out"
   ]
  },
  {
   "cell_type": "markdown",
   "metadata": {},
   "source": [
    "Now that we have defined $f$ and $g$, we can use them to implement the model() and guide() in Pyro:\n",
    "\n",
    "- The guide() will take the observations $\\textbf{x}$ as input, pass them through the encoder network $g$, and use the output of the encoder to parameterize the variational approximation $q(\\textbf{z})$. You can do a forward pass through the encoder using: ``self.encoder.forward(x)``. \n",
    "\n",
    "- The model() just follows the generative process of the VAE described above. For each observation $n$, it samples $\\textbf{z}_n \\sim \\mathcal{N}(\\textbf{z}_n|\\textbf{0}, \\textbf{I})$ and passes the samples through the decoder network $f$, in order to produce the parameters of the observation distributon $\\mathcal{N}(\\textbf{x}_n|f_{\\boldsymbol\\theta}(\\textbf{z}_n))$. You can do a forward pass through the decoder using: ``self.decoder.forward(z)``. \n",
    "\n",
    "Can try to you implement the guide() and model() for the Pyro model below? "
   ]
  },
  {
   "cell_type": "code",
   "execution_count": 7,
   "metadata": {},
   "outputs": [],
   "source": [
    "\n",
    "# define a PyTorch module for the VAE\n",
    "class VAE(nn.Module):\n",
    "    # by default our latent space is 50-dimensional\n",
    "    # and we use 400 hidden units\n",
    "    def __init__(self, z_dim=50, hidden_dim=400, input_dim=784, binary=False, use_cuda=False):\n",
    "        self.input_dim = input_dim\n",
    "        self.binary = binary\n",
    "        super().__init__()\n",
    "        # create the encoder and decoder networks\n",
    "        self.encoder = Encoder(z_dim, hidden_dim, input_dim)\n",
    "        self.decoder = Decoder(z_dim, hidden_dim, input_dim, binary=binary)\n",
    "\n",
    "        if use_cuda:\n",
    "            # calling cuda() here will put all the parameters of\n",
    "            # the encoder and decoder networks into gpu memory\n",
    "            self.cuda()\n",
    "        self.use_cuda = use_cuda\n",
    "        self.z_dim = z_dim\n",
    "\n",
    "    # define the model p(x|z)p(z)\n",
    "    def model(self, x):\n",
    "        # register PyTorch module `decoder` with Pyro\n",
    "        pyro.module(\"decoder\", self.decoder)\n",
    "\n",
    "        with pyro.plate(\"data\", x.shape[0]):\n",
    "            z_loc = torch.zeros(x.shape[0], self.z_dim)\n",
    "            z_scale = torch.ones(x.shape[0], self.z_dim)\n",
    "            z = pyro.sample(\"z\", dist.Normal(z_loc, z_scale).to_event(1))\n",
    "            img = self.decoder.forward(z)\n",
    "            if self.binary:\n",
    "                # sample from the Bernoulli distribution\n",
    "                pyro.sample(\"obs\", dist.Bernoulli(img, validate_args=False).to_event(1), obs=x.reshape(-1, self.input_dim))\n",
    "            else:\n",
    "                # sample from the Gaussian distribution\n",
    "                loc, scale = img\n",
    "                pyro.sample(\"obs\", dist.Normal(loc, scale, validate_args=False).to_event(1), obs=x.reshape(-1, self.input_dim))\n",
    "\n",
    "    # define the guide (i.e. variational distribution) q(z|x)\n",
    "    def guide(self, x):\n",
    "        # register PyTorch module `encoder` with Pyro\n",
    "        pyro.module(\"encoder\", self.encoder)\n",
    "        \n",
    "        with pyro.plate(\"data\", x.shape[0]):\n",
    "            z_loc, z_scale = self.encoder.forward(x)\n",
    "            z = pyro.sample(\"z\", dist.Normal(z_loc, z_scale).to_event(1))\n",
    "\n",
    "\n",
    "    # define a helper function for reconstructing images (this will useful later - ignore for now)\n",
    "    def reconstruct_img(self, x):\n",
    "        # encode image x\n",
    "        z_loc, z_scale = self.encoder(x)\n",
    "        # sample in latent space\n",
    "        z = dist.Normal(z_loc, z_scale).sample()\n",
    "        # decode the image (note we don't sample in image space)\n",
    "        loc_img = self.decoder(z)\n",
    "        return loc_img"
   ]
  },
  {
   "cell_type": "markdown",
   "metadata": {},
   "source": [
    "Now that the Pyro model is defined, lets run Bayesian inference on it. Note that the encoder and decoder networks will be trained jointly as part of the VI process."
   ]
  },
  {
   "cell_type": "markdown",
   "metadata": {},
   "source": [
    "As we did for PPCA, we can look at the reconstructions of the inputs $\\textbf{x}$ and see how good they are."
   ]
  },
  {
   "cell_type": "markdown",
   "metadata": {},
   "source": [
    "## VAE application in computer vision\n",
    "\n",
    "The Iris data is relatively simple. Lets now look at a more complex application in computer vision, where the VAE can really start to shine. Concretely, we will try to model images of digits using a VAE - the MNIST dataset. In the code below, we will load the datasets and train the VAE model on it. We will use a larger dimensionality (``z_dim=50``) of the latent space $\\textbf{z}$.\n",
    "\n",
    "Note: training the VAE on this dataset will take a few minutes (about 5-10 minutes, depending on your computer)."
   ]
  },
  {
   "cell_type": "code",
   "execution_count": 8,
   "metadata": {},
   "outputs": [],
   "source": [
    "use_cuda = False\n",
    "\n",
    "# clear param store\n",
    "pyro.clear_param_store()\n",
    "\n",
    "\n"
   ]
  },
  {
   "cell_type": "code",
   "execution_count": 9,
   "metadata": {},
   "outputs": [],
   "source": [
    "loaders = setup_data_loaders(MNIST, use_cuda=False, batch_size=250, sup_num=49000)\n",
    "train_loader = loaders[\"sup\"]\n",
    "test_loader = loaders[\"test\"]"
   ]
  },
  {
   "cell_type": "code",
   "execution_count": 10,
   "metadata": {},
   "outputs": [
    {
     "name": "stdout",
     "output_type": "stream",
     "text": [
      "[epoch 000]  average training loss: 198.9964\n",
      "[epoch 000]  average test loss: 162.3308\n",
      "[epoch 005]  average training loss: 119.5708\n",
      "[epoch 005]  average test loss: 116.0815\n",
      "[epoch 010]  average training loss: 111.0249\n",
      "[epoch 010]  average test loss: 109.2321\n",
      "[epoch 015]  average training loss: 108.1699\n",
      "[epoch 015]  average test loss: 106.9775\n",
      "[epoch 020]  average training loss: 106.6666\n",
      "[epoch 020]  average test loss: 105.5793\n",
      "[epoch 025]  average training loss: 105.7481\n",
      "[epoch 025]  average test loss: 104.7326\n"
     ]
    }
   ],
   "source": [
    "\n",
    "\n",
    "# setup the VAE\n",
    "vae = VAE(use_cuda=use_cuda, z_dim=50, hidden_dim=400, input_dim=784, binary=True)\n",
    "\n",
    "# setup the optimizer\n",
    "adam_args = {\"lr\": 1.0e-3}\n",
    "optimizer = Adam(adam_args)\n",
    "\n",
    "# setup the inference algorithm\n",
    "elbo = Trace_ELBO()\n",
    "svi = SVI(vae.model, vae.guide, optimizer, loss=elbo)\n",
    "\n",
    "train_elbo = {}\n",
    "test_elbo = {}\n",
    "# training loop\n",
    "num_epochs = 30\n",
    "for epoch in range(num_epochs):\n",
    "    # initialize loss accumulator\n",
    "    epoch_loss = 0.0\n",
    "    # do a training epoch over each mini-batch x returned\n",
    "    # by the data loader\n",
    "    for x, _ in train_loader:\n",
    "        # if on GPU put mini-batch into CUDA memory\n",
    "        if use_cuda:\n",
    "            x = x.cuda()\n",
    "        # do ELBO gradient and accumulate loss\n",
    "        epoch_loss += svi.step(x)\n",
    "\n",
    "    if epoch % 5 == 0:\n",
    "        # report training diagnostics\n",
    "        normalizer_train = len(train_loader.dataset)\n",
    "        total_epoch_loss_train = epoch_loss / normalizer_train\n",
    "        train_elbo[epoch] = total_epoch_loss_train\n",
    "        print(\"[epoch %03d]  average training loss: %.4f\" % (epoch, total_epoch_loss_train))\n",
    "        \n",
    "        # initialize loss accumulator\n",
    "        test_loss = 0.0\n",
    "        # compute the loss over the entire test set\n",
    "        for i, (x, _) in enumerate(test_loader):\n",
    "            # if on GPU put mini-batch into CUDA memory\n",
    "            if use_cuda:\n",
    "                x = x.cuda()\n",
    "            # compute ELBO estimate and accumulate loss\n",
    "            test_loss += svi.evaluate_loss(x)\n",
    "\n",
    "        # report test diagnostics\n",
    "        normalizer_test = len(test_loader.dataset)\n",
    "    \n",
    "        total_epoch_loss_test = test_loss / normalizer_test\n",
    "        test_elbo[epoch] = total_epoch_loss_test\n",
    "        print(\"[epoch %03d]  average test loss: %.4f\" % (epoch, total_epoch_loss_test))\n",
    "        plot_llk(train_elbo, test_elbo)"
   ]
  },
  {
   "cell_type": "markdown",
   "metadata": {},
   "source": [
    "We can now look at the reconstructions produced by the VAE model for a subset of the digits in the dataset:"
   ]
  },
  {
   "cell_type": "code",
   "execution_count": 11,
   "metadata": {},
   "outputs": [
    {
     "data": {
      "image/png": "[encoded data removed]",
      "text/plain": [
       "<Figure size 600x2000 with 20 Axes>"
      ]
     },
     "metadata": {},
     "output_type": "display_data"
    }
   ],
   "source": [
    "# pick 10 random test images from the first mini-batch and visualize how well we're reconstructing them\n",
    "fig, axs = plt.subplots(10,2, figsize=(6,20))\n",
    "x = next(iter(test_loader))[0]\n",
    "# if on GPU put mini-batch into CUDA memory\n",
    "if use_cuda:\n",
    "    x = x.cuda()\n",
    "#plot_vae_samples(vae, vis)\n",
    "reco_indices = np.random.randint(0, x.shape[0], 10)\n",
    "for i in range(10):\n",
    "    index = reco_indices[i]\n",
    "    test_img = x[index, :]\n",
    "    reco_img = vae.reconstruct_img(test_img)\n",
    "    #vis.image(\n",
    "    #    test_img.reshape(28, 28).detach().cpu().numpy(),\n",
    "    #    opts={\"caption\": \"test image\"},\n",
    "    #)\n",
    "    #vis.image(\n",
    "    #    reco_img.reshape(28, 28).detach().cpu().numpy(),\n",
    "    #    opts={\"caption\": \"reconstructed image\"},\n",
    "    #)\n",
    "    axs[i,0].imshow(test_img.reshape(28, 28).detach().cpu().numpy(), cmap=\"Greys\")\n",
    "    axs[i,1].imshow(reco_img.reshape(28, 28).detach().cpu().numpy(), cmap=\"Greys\")\n",
    "    \n",
    "axs[0,0].set_title(\"True image\");\n",
    "axs[0,1].set_title(\"Reconstruction\");"
   ]
  },
  {
   "cell_type": "code",
   "execution_count": 12,
   "metadata": {},
   "outputs": [
    {
     "name": "stdout",
     "output_type": "stream",
     "text": [
      "tensor([[0., 0., 0., 0., 0., 0., 0., 0., 1., 0.],\n",
      "        [0., 0., 0., 0., 0., 0., 0., 0., 0., 1.],\n",
      "        [0., 0., 0., 0., 0., 0., 0., 1., 0., 0.],\n",
      "        [0., 0., 0., 0., 0., 0., 0., 0., 1., 0.],\n",
      "        [0., 0., 0., 0., 0., 0., 0., 1., 0., 0.],\n",
      "        [0., 0., 1., 0., 0., 0., 0., 0., 0., 0.],\n",
      "        [0., 0., 0., 0., 0., 0., 0., 1., 0., 0.],\n",
      "        [0., 0., 0., 0., 0., 1., 0., 0., 0., 0.],\n",
      "        [0., 0., 0., 0., 0., 0., 0., 1., 0., 0.],\n",
      "        [0., 0., 0., 0., 0., 0., 1., 0., 0., 0.]])\n"
     ]
    }
   ],
   "source": [
    "# Grab the first batch from test_loader\n",
    "x_batch, y_batch = next(iter(test_loader))\n",
    "\n",
    "# Print the first 10 labels\n",
    "print(y_batch[:10])"
   ]
  },
  {
   "cell_type": "markdown",
   "metadata": {},
   "source": [
    "We can also try to visualize the projections of the digits in the latent space. However, in this case, the latent projections are still 50-dimensional!! We will need to project them down even further if we want to visualize them on a 2-D plot. For this, we will use a dimensionality reduction called t-SNE. t-SNE tries to project down the data while attempting to perserve the (Euclidean) distances between all pairs of data points (observations) in the dataset. Lets do that and see how it looks:"
   ]
  },
  {
   "cell_type": "code",
   "execution_count": 13,
   "metadata": {},
   "outputs": [
    {
     "name": "stderr",
     "output_type": "stream",
     "text": [
      "/Users/work/Documents/model-based-machine-learning-ssvae/.venv/lib/python3.9/site-packages/torchvision/datasets/mnist.py:81: UserWarning: test_data has been renamed data\n",
      "  warnings.warn(\"test_data has been renamed data\")\n",
      "/Users/work/Documents/model-based-machine-learning-ssvae/.venv/lib/python3.9/site-packages/torchvision/datasets/mnist.py:71: UserWarning: test_labels has been renamed targets\n",
      "  warnings.warn(\"test_labels has been renamed targets\")\n",
      "/Users/work/Documents/model-based-machine-learning-ssvae/.venv/lib/python3.9/site-packages/sklearn/utils/extmath.py:335: RuntimeWarning: divide by zero encountered in matmul\n",
      "  Q, _ = normalizer(A @ Q)\n",
      "/Users/work/Documents/model-based-machine-learning-ssvae/.venv/lib/python3.9/site-packages/sklearn/utils/extmath.py:335: RuntimeWarning: overflow encountered in matmul\n",
      "  Q, _ = normalizer(A @ Q)\n",
      "/Users/work/Documents/model-based-machine-learning-ssvae/.venv/lib/python3.9/site-packages/sklearn/utils/extmath.py:335: RuntimeWarning: invalid value encountered in matmul\n",
      "  Q, _ = normalizer(A @ Q)\n",
      "/Users/work/Documents/model-based-machine-learning-ssvae/.venv/lib/python3.9/site-packages/sklearn/utils/extmath.py:336: RuntimeWarning: divide by zero encountered in matmul\n",
      "  Q, _ = normalizer(A.T @ Q)\n",
      "/Users/work/Documents/model-based-machine-learning-ssvae/.venv/lib/python3.9/site-packages/sklearn/utils/extmath.py:336: RuntimeWarning: overflow encountered in matmul\n",
      "  Q, _ = normalizer(A.T @ Q)\n",
      "/Users/work/Documents/model-based-machine-learning-ssvae/.venv/lib/python3.9/site-packages/sklearn/utils/extmath.py:336: RuntimeWarning: invalid value encountered in matmul\n",
      "  Q, _ = normalizer(A.T @ Q)\n",
      "/Users/work/Documents/model-based-machine-learning-ssvae/.venv/lib/python3.9/site-packages/sklearn/utils/extmath.py:340: RuntimeWarning: divide by zero encountered in matmul\n",
      "  Q, _ = qr_normalizer(A @ Q)\n",
      "/Users/work/Documents/model-based-machine-learning-ssvae/.venv/lib/python3.9/site-packages/sklearn/utils/extmath.py:340: RuntimeWarning: overflow encountered in matmul\n",
      "  Q, _ = qr_normalizer(A @ Q)\n",
      "/Users/work/Documents/model-based-machine-learning-ssvae/.venv/lib/python3.9/site-packages/sklearn/utils/extmath.py:340: RuntimeWarning: invalid value encountered in matmul\n",
      "  Q, _ = qr_normalizer(A @ Q)\n",
      "/Users/work/Documents/model-based-machine-learning-ssvae/.venv/lib/python3.9/site-packages/sklearn/utils/extmath.py:533: RuntimeWarning: divide by zero encountered in matmul\n",
      "  B = Q.T @ M\n",
      "/Users/work/Documents/model-based-machine-learning-ssvae/.venv/lib/python3.9/site-packages/sklearn/utils/extmath.py:533: RuntimeWarning: overflow encountered in matmul\n",
      "  B = Q.T @ M\n",
      "/Users/work/Documents/model-based-machine-learning-ssvae/.venv/lib/python3.9/site-packages/sklearn/utils/extmath.py:533: RuntimeWarning: invalid value encountered in matmul\n",
      "  B = Q.T @ M\n",
      "/Users/work/Documents/model-based-machine-learning-ssvae/.venv/lib/python3.9/site-packages/sklearn/utils/extmath.py:547: RuntimeWarning: divide by zero encountered in matmul\n",
      "  U = Q @ Uhat\n",
      "/Users/work/Documents/model-based-machine-learning-ssvae/.venv/lib/python3.9/site-packages/sklearn/utils/extmath.py:547: RuntimeWarning: overflow encountered in matmul\n",
      "  U = Q @ Uhat\n",
      "/Users/work/Documents/model-based-machine-learning-ssvae/.venv/lib/python3.9/site-packages/sklearn/utils/extmath.py:547: RuntimeWarning: invalid value encountered in matmul\n",
      "  U = Q @ Uhat\n"
     ]
    }
   ],
   "source": [
    "mnist_test_tsne(vae=vae, test_loader=test_loader)"
   ]
  },
  {
   "cell_type": "markdown",
   "metadata": {},
   "source": [
    "As we can see, the observations of the different digits are nicely separated (clustered) in the latent space $\\textbf{z}$. I.e., all observations of the digit 5 are clustered together in the latent space, and similarly for other digits.\n",
    "\n",
    "Lastly, since the VAE is a generative model, we can use it to sample new observations (\"fake data\"). We can do this by sampling $z$ from a standard Gaussian distribution and passing those samples through the decoder network. \n",
    "\n",
    "Lets do this to generate 10 new samples of digit images:"
   ]
  },
  {
   "cell_type": "code",
   "execution_count": 14,
   "metadata": {},
   "outputs": [],
   "source": [
    "plt.figure()\n",
    "for i in range(10):\n",
    "    z_loc = torch.zeros(vae.z_dim, dtype=x.dtype, device=x.device)\n",
    "    z_scale = torch.ones(vae.z_dim, dtype=x.dtype, device=x.device)\n",
    "    z = dist.Normal(z_loc, z_scale).rsample()\n",
    "    out = vae.decoder.forward(z)\n",
    "    # plt.figure(figsize=(3,3))\n",
    "    plt.imshow(out.reshape(28, 28).detach().cpu().numpy(), cmap=\"Greys\")"
   ]
  },
  {
   "cell_type": "markdown",
   "metadata": {},
   "source": [
    "\n",
    "------------------------------------------------------------------------\n",
    "\n",
    "--------------------------------------------------------------------------------\n",
    "2) Define a Pyro model and guide for a multiclass linear classifier\n",
    "--------------------------------------------------------------------------------\n",
    "\n",
    "We will create a K-class linear model y ∼ Categorical(logits = z_loc @ W + b).  \n",
    "\n",
    "Note: for Iris, K=3 classes, but this approach generalizes to any K ≥ 2.\n",
    "\n",
    "------------------------------------------------------------------------"
   ]
  },
  {
   "cell_type": "code",
   "execution_count": 15,
   "metadata": {},
   "outputs": [],
   "source": [
    "\n",
    "num_classes = 10 # as we have 10 digits in MNIST\n"
   ]
  },
  {
   "cell_type": "code",
   "execution_count": 16,
   "metadata": {},
   "outputs": [],
   "source": [
    "def classifier_model(x, obs=None):\n",
    "    z = vae.encoder(x)[0]\n",
    "    alpha = pyro.sample(\"alpha_c\", pyro.distributions.Normal(0., 1.).expand( [num_classes]).to_event())\n",
    "    beta = pyro.sample(\"beta_c\", pyro.distributions.Normal(0., 1.).expand([z.shape[1], num_classes]).to_event())\n",
    "    logits =   z @ beta + alpha\n",
    "    with pyro.plate(\"data\", z.shape[0]):\n",
    "        y = pyro.sample(\"y\", pyro.distributions.Categorical(logits=logits), obs=obs)"
   ]
  },
  {
   "cell_type": "markdown",
   "metadata": {},
   "source": [
    "\n",
    "------------------------------------------------------------------------\n",
    "\n",
    "--------------------------------------------------------------------------------\n",
    "3) Train the classifier in Pyro using SVI\n",
    "--------------------------------------------------------------------------------\n",
    "\n",
    "You can run standard Pyro SVI over these model/guide definitions. For example:\n",
    "\n",
    "------------------------------------------------------------------------"
   ]
  },
  {
   "cell_type": "code",
   "execution_count": 17,
   "metadata": {},
   "outputs": [],
   "source": [
    "from pyro.contrib.autoguide import AutoDiagonalNormal, AutoMultivariateNormal\n"
   ]
  },
  {
   "cell_type": "code",
   "execution_count": 18,
   "metadata": {},
   "outputs": [
    {
     "name": "stdout",
     "output_type": "stream",
     "text": [
      "[step 0] loss = 280506.95\n",
      "[step 5] loss = 139707.55\n",
      "[step 10] loss = 93270.37\n",
      "[step 15] loss = 77304.32\n",
      "[step 20] loss = 73936.81\n",
      "[step 25] loss = 72631.23\n",
      "[step 30] loss = 72291.56\n",
      "[step 35] loss = 72254.45\n",
      "[step 40] loss = 71983.67\n",
      "[step 45] loss = 72153.52\n",
      "[step 50] loss = 71918.67\n",
      "[step 55] loss = 71919.22\n",
      "[step 60] loss = 72114.29\n",
      "[step 65] loss = 72014.60\n",
      "[step 70] loss = 71964.24\n",
      "[step 75] loss = 71844.53\n",
      "[step 80] loss = 72069.58\n",
      "[step 85] loss = 72016.31\n",
      "[step 90] loss = 72222.13\n",
      "[step 95] loss = 71920.35\n"
     ]
    }
   ],
   "source": [
    "# Clear out any existing parameter values\n",
    "# pyro.clear_param_store()\n",
    "\n",
    "classifier_guide = AutoMultivariateNormal(classifier_model)\n",
    "\n",
    "optimizer = Adam({\"lr\": 1.0e-3})\n",
    "# Setup SVI\n",
    "svi_classifier = SVI(\n",
    "    model=classifier_model,\n",
    "    guide=classifier_guide,\n",
    "    optim=optimizer,\n",
    "    loss=Trace_ELBO(num_particles=3),\n",
    ")\n",
    "num_steps = 100  # Adjust as needed\n",
    "for step in range(num_steps):\n",
    "    epoch_loss = 0.0\n",
    "    for x, y in train_loader:\n",
    "        # if on GPU put mini-batch into CUDA memory\n",
    "        if use_cuda:\n",
    "            x = x.cuda()\n",
    "            y = y.cuda()\n",
    "        y = np.argmax(y, axis=1) # FIX THIS. Ensure that it is converted in the right way\n",
    "        # do ELBO gradient and accumulate loss\n",
    "        epoch_loss += svi_classifier.step(x, y)\n",
    "    if step % 5 == 0:\n",
    "        print(f\"[step {step}] loss = {epoch_loss:.2f}\")\n"
   ]
  },
  {
   "cell_type": "code",
   "execution_count": 19,
   "metadata": {},
   "outputs": [],
   "source": [
    "# pick 10 random test images from the first mini-batch and visualize how well we're reconstructing them\n",
    "fig, axs = plt.subplots(10,2, figsize=(6,20))\n",
    "x = next(iter(train_loader))[0]\n",
    "# if on GPU put mini-batch into CUDA memory\n",
    "if use_cuda:\n",
    "    x = x.cuda()\n",
    "#plot_vae_samples(vae, vis)\n",
    "reco_indices = np.random.randint(0, x.shape[0], 10)\n",
    "for i in range(10):\n",
    "    index = reco_indices[i]\n",
    "    test_img = x[index, :]\n",
    "    reco_img = vae.reconstruct_img(test_img)\n",
    "    axs[i,0].imshow(test_img.reshape(28, 28).detach().cpu().numpy(), cmap=\"Greys\")\n",
    "    axs[i,1].imshow(reco_img.reshape(28, 28).detach().cpu().numpy(), cmap=\"Greys\")\n",
    "    \n",
    "axs[0,0].set_title(\"True image\");\n",
    "axs[0,1].set_title(\"Reconstruction\");\n",
    "\n",
    "\n",
    "# Get true labels\n",
    "true_labels = torch.argmax(y_batch[reco_indices], dim=1)\n",
    "\n",
    "for i in range(10):\n",
    "    index = reco_indices[i]\n",
    "    axs[i,0].set_xlabel(f\"True: {true_labels[i].item()}\")\n",
    "    # axs[i,1].set_xlabel(f\"Predicted: {predicted_labels[i].item()}\")"
   ]
  },
  {
   "cell_type": "code",
   "execution_count": 20,
   "metadata": {},
   "outputs": [
    {
     "data": {
      "text/plain": [
       "<matplotlib.image.AxesImage at 0x3ab9b9d90>"
      ]
     },
     "execution_count": 20,
     "metadata": {},
     "output_type": "execute_result"
    }
   ],
   "source": [
    "plt.imshow(reco_img.reshape(28, 28).detach().cpu().numpy())"
   ]
  },
  {
   "cell_type": "code",
   "execution_count": 21,
   "metadata": {},
   "outputs": [],
   "source": [
    "%matplotlib inline\n"
   ]
  },
  {
   "cell_type": "code",
   "execution_count": 111,
   "metadata": {},
   "outputs": [],
   "source": [
    "\n",
    "# define a PyTorch module for the VAE\n",
    "class ssVAE(nn.Module):\n",
    "    # by default our latent space is 50-dimensional\n",
    "    # and we use 400 hidden units\n",
    "    def __init__(self, z_dim=50, hidden_dim=400, input_dim=784, binary=False, use_cuda=False):\n",
    "        self.input_dim = input_dim\n",
    "        self.binary = binary\n",
    "        super().__init__()\n",
    "        # create the encoder and decoder networks\n",
    "        self.encoder = Encoder(z_dim, hidden_dim, input_dim)\n",
    "        self.decoder = Decoder(z_dim, hidden_dim, input_dim, binary=binary)\n",
    "\n",
    "        if use_cuda:\n",
    "            # calling cuda() here will put all the parameters of\n",
    "            # the encoder and decoder networks into gpu memory\n",
    "            self.cuda()\n",
    "        self.use_cuda = use_cuda\n",
    "        self.z_dim = z_dim\n",
    "\n",
    "    # define the model p(x|z)p(z)\n",
    "    def model(self, x, y=None, fraction=1.0):\n",
    "        BATCH_SIZE = x.shape[0]\n",
    "        # register PyTorch module `decoder` with Pyro\n",
    "        pyro.module(\"decoder\", self.decoder)\n",
    "        alpha = pyro.sample(\"alpha\", pyro.distributions.Normal(0., 1.).expand([num_classes]).to_event(1))\n",
    "        beta = pyro.sample(\"beta\", pyro.distributions.Normal(0., 1.).expand([self.z_dim, num_classes]).to_event(2))\n",
    "        with pyro.plate(\"data\", x.shape[0]):\n",
    "            z_loc = torch.zeros(x.shape[0], self.z_dim)\n",
    "            z_scale = torch.ones(x.shape[0], self.z_dim)\n",
    "            z = pyro.sample(\"z\", dist.Normal(z_loc, z_scale).to_event(1))\n",
    "            # Prepare for classification\n",
    "            logits =   z @ beta + alpha\n",
    "            # Reconstruct image\n",
    "            img = self.decoder.forward(z)\n",
    "\n",
    "            # Sample from the observation likelihood\n",
    "            if self.binary:\n",
    "                # sample from the Bernoulli distribution\n",
    "                pyro.sample(\"obs\", dist.Bernoulli(img, validate_args=False).to_event(1), obs=x.reshape(-1, self.input_dim))\n",
    "                is_labelled = (y != -1)\n",
    "                y[~is_labelled] = 0\n",
    "                with poutine.mask(mask=is_labelled):\n",
    "                    with pyro.poutine.scale(scale=1/fraction):\n",
    "                        pyro.sample(\"y\", dist.Categorical(logits=logits), obs=y, infer={'is_auxiliary': True})\n",
    "\n",
    "    def guide(self, x, y=None, fraction=None):\n",
    "        # register PyTorch modules with Pyro\n",
    "        pyro.module(\"encoder\", self.encoder)\n",
    "\n",
    "        # approximate posterior over alpha and beta\n",
    "        alpha_loc = pyro.param(\"alpha_loc\", torch.zeros(num_classes))\n",
    "        alpha_scale = pyro.param(\"alpha_scale\", torch.ones(num_classes))\n",
    "        pyro.sample(\"alpha\", dist.Normal(alpha_loc, alpha_scale).to_event(1))\n",
    "\n",
    "        beta_loc = pyro.param(\"beta_loc\", torch.zeros(self.z_dim, num_classes))\n",
    "        beta_scale = pyro.param(\"beta_scale\", torch.ones(self.z_dim, num_classes))\n",
    "        beta = pyro.sample(\"beta\", dist.Normal(beta_loc, beta_scale).to_event(2))\n",
    "        \n",
    "        with pyro.plate(\"data\", x.shape[0]):\n",
    "            # approximate posterior over z\n",
    "            z_loc, z_scale = self.encoder.forward(x)\n",
    "            z = pyro.sample(\"z\", dist.Normal(z_loc, z_scale).to_event(1))\n",
    "\n",
    "            \n",
    "            # for unlabeled data, sample y from the classifier\n",
    "            if y is not None:\n",
    "                mask_unlabelled = (y == -1)\n",
    "                if torch.any(mask_unlabelled):\n",
    "                    logits = z @ beta + alpha_loc\n",
    "                    with poutine.mask(mask=mask_unlabelled):\n",
    "                        pyro.sample(\"y\", dist.Categorical(logits=logits),infer={'is_auxiliary': True})\n",
    "                \n",
    "    def classifier(self, x):\n",
    "        z_loc, z_scale = self.encoder(x)\n",
    "        z = z_loc\n",
    "        alpha_loc = pyro.param(\"alpha_loc\")\n",
    "        beta_loc = pyro.param(\"beta_loc\")\n",
    "        logits = z @ beta_loc + alpha_loc\n",
    "        return torch.argmax(logits, dim=1)\n",
    "\n",
    "\n",
    "    # define a helper function for reconstructing images (this will useful later - ignore for now)\n",
    "    def reconstruct_img(self, x):\n",
    "        # encode image x\n",
    "        z_loc, z_scale = self.encoder(x)\n",
    "        # sample in latent space\n",
    "        z = dist.Normal(z_loc, z_scale).sample()\n",
    "        # decode the image (note we don't sample in image space)\n",
    "        loc_img = self.decoder(z)\n",
    "        return loc_img"
   ]
  },
  {
   "cell_type": "code",
   "execution_count": null,
   "metadata": {},
   "outputs": [],
   "source": []
  },
  {
   "cell_type": "code",
   "execution_count": null,
   "metadata": {},
   "outputs": [],
   "source": []
  },
  {
   "cell_type": "markdown",
   "metadata": {},
   "source": []
  },
  {
   "cell_type": "code",
   "execution_count": 74,
   "metadata": {},
   "outputs": [
    {
     "name": "stdout",
     "output_type": "stream",
     "text": [
      "[epoch 000]  average training loss: 212.4178\n",
      "[epoch 000]  average test loss: 174.7002\n",
      "[epoch 005]  average training loss: 125.4852\n",
      "[epoch 005]  average test loss: 121.7270\n",
      "[epoch 010]  average training loss: 114.7665\n",
      "[epoch 010]  average test loss: 113.0518\n",
      "[epoch 015]  average training loss: 111.2263\n",
      "[epoch 015]  average test loss: 109.8594\n",
      "[epoch 020]  average training loss: 109.5564\n",
      "[epoch 020]  average test loss: 108.1551\n",
      "[epoch 025]  average training loss: 108.4690\n",
      "[epoch 025]  average test loss: 107.4576\n"
     ]
    }
   ],
   "source": [
    "\n",
    "pyro.clear_param_store()\n",
    "\n",
    "# setup the VAE\n",
    "ssvae = ssVAE(use_cuda=use_cuda, z_dim=50, hidden_dim=400, input_dim=784, binary=True)\n",
    "\n",
    "# setup the optimizer\n",
    "adam_args = {\"lr\": 1.0e-3}\n",
    "optimizer = Adam(adam_args)\n",
    "\n",
    "# setup the inference algorithm\n",
    "elbo = Trace_ELBO()\n",
    "svi = SVI(ssvae.model, ssvae.guide, optimizer, loss=elbo)\n",
    "\n",
    "train_elbo = {}\n",
    "test_elbo = {}\n",
    "# training loop\n",
    "num_epochs = 30\n",
    "for epoch in range(num_epochs):\n",
    "    # initialize loss accumulator\n",
    "    epoch_loss = 0.0\n",
    "    # do a training epoch over each mini-batch x returned\n",
    "    # by the data loader\n",
    "    for x, y in train_loader:\n",
    "        # if on GPU put mini-batch into CUDA memory\n",
    "        y = np.argmax(y, axis=1)\n",
    "        if use_cuda:\n",
    "            x = x.cuda()\n",
    "            y = y.cuda()\n",
    "        # do ELBO gradient and accumulate loss\n",
    "        epoch_loss += svi.step(x, y)\n",
    "\n",
    "    if epoch % 5 == 0:\n",
    "        # report training diagnostics\n",
    "        normalizer_train = len(train_loader.dataset)\n",
    "        total_epoch_loss_train = epoch_loss / normalizer_train\n",
    "        train_elbo[epoch] = total_epoch_loss_train\n",
    "        print(\"[epoch %03d]  average training loss: %.4f\" % (epoch, total_epoch_loss_train))\n",
    "        \n",
    "        # initialize loss accumulator\n",
    "        test_loss = 0.0\n",
    "        # compute the loss over the entire test set\n",
    "        for i, (x, y) in enumerate(test_loader):\n",
    "            y = np.argmax(y, axis=1)\n",
    "            # if on GPU put mini-batch into CUDA memory\n",
    "            if use_cuda:\n",
    "                x = x.cuda()\n",
    "                y = y.cuda()\n",
    "            \n",
    "            # compute ELBO estimate and accumulate loss\n",
    "            test_loss += svi.evaluate_loss(x, y)\n",
    "\n",
    "        # report test diagnostics\n",
    "        normalizer_test = len(test_loader.dataset)\n",
    "    \n",
    "        total_epoch_loss_test = test_loss / normalizer_test\n",
    "        test_elbo[epoch] = total_epoch_loss_test\n",
    "        print(\"[epoch %03d]  average test loss: %.4f\" % (epoch, total_epoch_loss_test))\n",
    "        plot_llk(train_elbo, test_elbo)"
   ]
  },
  {
   "cell_type": "code",
   "execution_count": 24,
   "metadata": {},
   "outputs": [
    {
     "data": {
      "text/plain": [
       "tensor([2])"
      ]
     },
     "execution_count": 24,
     "metadata": {},
     "output_type": "execute_result"
    }
   ],
   "source": [
    "ssvae.classifier(test_img)"
   ]
  },
  {
   "cell_type": "code",
   "execution_count": 25,
   "metadata": {},
   "outputs": [
    {
     "data": {
      "text/plain": [
       "tensor(9)"
      ]
     },
     "execution_count": 25,
     "metadata": {},
     "output_type": "execute_result"
    }
   ],
   "source": [
    "np.argmax(y_batch[index])"
   ]
  },
  {
   "cell_type": "code",
   "execution_count": 113,
   "metadata": {},
   "outputs": [
    {
     "data": {
      "text/plain": [
       "Text(0.5, 1.0, 'Pred/True Label')"
      ]
     },
     "execution_count": 113,
     "metadata": {},
     "output_type": "execute_result"
    },
    {
     "data": {
      "image/png": "[encoded data removed]",
      "text/plain": [
       "<Figure size 900x2000 with 40 Axes>"
      ]
     },
     "metadata": {},
     "output_type": "display_data"
    }
   ],
   "source": [
    "# Obtain both data (x_batch) and labels (y_batch) from the test loader\n",
    "x_batch, y_batch = next(iter(test_loader))\n",
    "if use_cuda:\n",
    "    x_batch = x_batch.cuda()\n",
    "\n",
    "fig, axs = plt.subplots(10, 4, figsize=(9, 20))\n",
    "\n",
    "# Pick 10 random images to reconstruct\n",
    "reco_indices = np.random.randint(0, x_batch.shape[0], 10)\n",
    "for i in range(10):\n",
    "    index = reco_indices[i]\n",
    "    test_img = x_batch[index]\n",
    "\n",
    "    # Reconstructions from ssVAE and VAE\n",
    "    reco_img_ssvae = ssvae.reconstruct_img(test_img)\n",
    "    reco_img_vae = vae.reconstruct_img(test_img)\n",
    "    \n",
    "    # Classifier returns a distribution, so extract the predicted label\n",
    "    pred_label = int(ssvae.classifier(test_img))\n",
    "\n",
    "    # True label\n",
    "    true_label = np.argmax(y_batch[index])\n",
    "\n",
    "    axs[i, 0].imshow(test_img.reshape(28, 28).detach().cpu().numpy(), cmap=\"Greys\")\n",
    "    axs[i, 1].imshow(reco_img_ssvae.reshape(28, 28).detach().cpu().numpy(), cmap=\"Greys\")\n",
    "    axs[i, 2].imshow(reco_img_vae.reshape(28, 28).detach().cpu().numpy(), cmap=\"Greys\")\n",
    "\n",
    "    # Fourth subplot: display predicted and true label\n",
    "    axs[i, 3].axis(\"off\")\n",
    "    axs[i, 3].text(\n",
    "        0.5,\n",
    "        0.5,\n",
    "        f\"Pred: {pred_label}, True: {true_label}\",\n",
    "        fontsize=14,\n",
    "        ha=\"center\",\n",
    "        va=\"center\",\n",
    "    )\n",
    "\n",
    "axs[0, 0].set_title(\"True\")\n",
    "axs[0, 1].set_title(\"ssVAE\")\n",
    "axs[0, 2].set_title(\"VAE\")\n",
    "axs[0, 3].set_title(\"Pred/True Label\")\n"
   ]
  },
  {
   "cell_type": "code",
   "execution_count": null,
   "metadata": {},
   "outputs": [],
   "source": []
  },
  {
   "cell_type": "markdown",
   "metadata": {},
   "source": [
    "Things we are missing,\n",
    "\n",
    "1. Trying to reload data with another fraction of Unsupervised and supervised.\n",
    "2. Prepare a loss function for supervised and unsupervised. Making batches that have the same proportion of supervised datapoints. \n",
    "3. Reconstruction accuracy\n",
    "4. Classifcation Accuracy\n",
    "5. Logits entropy based AL\n",
    "6. BALD (Bayesian Active Learning by Disagreement)\n",
    "7. Documentation\n",
    "8. Consider if should compare the T-SNE during our iterations (VAE, Supervised VAE, ssVAE)\n",
    "9. Show what the samples we pick look like, and if they are actually just sample with high VAE reconstruction error\n",
    "10. We might even be able to show sample location of the T-SNE plot.\n"
   ]
  },
  {
   "cell_type": "code",
   "execution_count": 27,
   "metadata": {},
   "outputs": [],
   "source": [
    "# First define data as Batchsize 1, then do manual batching afterwards.\n",
    "# Hereby, it will be much easier to evaluate."
   ]
  },
  {
   "cell_type": "code",
   "execution_count": null,
   "metadata": {},
   "outputs": [],
   "source": [
    "def ss_loader(y, ss_fraction):\n",
    "    shape = y.shape\n",
    "    N = len(y)\n",
    "    L1 = int(N * (1-ss_fraction))\n",
    "    choices = np.random.choice(np.arange(N), L1, replace=False)\n",
    "    y = np.array(y)\n",
    "    y[choices] = -1\n",
    "    return torch.tensor(y, dtype=torch.float32).reshape(shape), choices\n",
    "\n"
   ]
  },
  {
   "cell_type": "code",
   "execution_count": null,
   "metadata": {},
   "outputs": [
    {
     "name": "stdout",
     "output_type": "stream",
     "text": [
      "torch.Size([250])\n",
      "tensor(225)\n"
     ]
    }
   ],
   "source": [
    "for x,y in train_loader:\n",
    "    y = np.argmax(y, axis=1)\n",
    "    print(y.shape)\n",
    "    y = ss_loader(y, 0.1)\n",
    "    break"
   ]
  },
  {
   "cell_type": "code",
   "execution_count": null,
   "metadata": {},
   "outputs": [
    {
     "name": "stdout",
     "output_type": "stream",
     "text": [
      "[epoch 000]  average training loss: 250.0796\n",
      "[epoch 000]  average test loss: 223.0107\n",
      "[epoch 005]  average training loss: 172.3001\n",
      "[epoch 005]  average test loss: 167.4226\n",
      "[epoch 010]  average training loss: 153.5100\n",
      "[epoch 010]  average test loss: 151.1562\n",
      "[epoch 015]  average training loss: 143.8299\n",
      "[epoch 015]  average test loss: 141.4794\n",
      "[epoch 020]  average training loss: 139.3005\n",
      "[epoch 020]  average test loss: 137.2807\n",
      "[epoch 025]  average training loss: 136.0669\n",
      "[epoch 025]  average test loss: 133.7860\n"
     ]
    }
   ],
   "source": [
    "\n",
    "pyro.clear_param_store()\n",
    "\n",
    "# setup the VAE\n",
    "ssvae = ssVAE(use_cuda=use_cuda, z_dim=50, hidden_dim=400, input_dim=784, binary=True)\n",
    "\n",
    "# setup the optimizer\n",
    "adam_args = {\"lr\": 1.0e-3}\n",
    "optimizer = Adam(adam_args)\n",
    "\n",
    "# setup the inference algorithm\n",
    "elbo = Trace_ELBO()\n",
    "svi = SVI(ssvae.model, ssvae.guide, optimizer, loss=elbo)\n",
    "\n",
    "train_elbo = {}\n",
    "test_elbo = {}\n",
    "# training loop\n",
    "num_epochs = 30\n",
    "fraction = 0.5\n",
    "\n",
    "for epoch in range(num_epochs):\n",
    "    # initialize loss accumulator\n",
    "    epoch_loss = 0.0\n",
    "    # do a training epoch over each mini-batch x returned\n",
    "    # by the data loader\n",
    "\n",
    "    idxs_unsup = []\n",
    "    for x, y in train_loader:\n",
    "        # if on GPU put mini-batch into CUDA memory\n",
    "        y = np.argmax(y, axis=1)\n",
    "        y, idx_unsup = ss_loader(y, fraction)\n",
    "        idxs_unsup.append(idx_unsup)\n",
    "        if use_cuda:\n",
    "            x = x.cuda()\n",
    "            y = y.cuda()\n",
    "\n",
    "        # do ELBO gradient and accumulate loss\n",
    "        epoch_loss += svi.step(x, y, fraction=fraction)\n",
    "        \n",
    "    if epoch % 5 == 0:\n",
    "        # report training diagnostics\n",
    "        normalizer_train = len(train_loader.dataset)\n",
    "        total_epoch_loss_train = epoch_loss / normalizer_train\n",
    "        train_elbo[epoch] = total_epoch_loss_train\n",
    "        print(\"[epoch %03d]  average training loss: %.4f\" % (epoch, total_epoch_loss_train))\n",
    "        \n",
    "        # initialize loss accumulator\n",
    "        test_loss = 0.0\n",
    "        # compute the loss over the entire test set\n",
    "        for i, (x, y) in enumerate(test_loader):\n",
    "            y = np.argmax(y, axis=1)\n",
    "            # if on GPU put mini-batch into CUDA memory\n",
    "            if use_cuda:\n",
    "                x = x.cuda()\n",
    "                y = y.cuda()\n",
    "            \n",
    "            # compute ELBO estimate and accumulate loss\n",
    "            test_loss += svi.evaluate_loss(x, y)\n",
    "\n",
    "        # report test diagnostics\n",
    "        normalizer_test = len(test_loader.dataset)\n",
    "    \n",
    "        total_epoch_loss_test = test_loss / normalizer_test\n",
    "        test_elbo[epoch] = total_epoch_loss_test\n",
    "        print(\"[epoch %03d]  average test loss: %.4f\" % (epoch, total_epoch_loss_test))\n",
    "        plot_llk(train_elbo, test_elbo)"
   ]
  },
  {
   "cell_type": "code",
   "execution_count": null,
   "metadata": {},
   "outputs": [
    {
     "name": "stdout",
     "output_type": "stream",
     "text": [
      "tensor([2.1998, 2.2595, 2.1439, 2.0979, 1.9753, 2.1984, 2.2712, 2.1801, 2.2770,\n",
      "        1.9495, 1.4366, 2.1769, 2.0372, 2.0331, 2.0791, 2.0907, 2.1058, 2.1749,\n",
      "        2.1722, 2.1635, 2.1230, 1.9311, 2.0155, 1.0890, 2.1846, 2.2385, 1.8687,\n",
      "        2.1331, 2.0778, 2.0011, 2.2197, 2.2120, 2.2368, 2.1547, 1.8064, 2.1364,\n",
      "        2.0605, 2.1448, 2.0056, 2.2338, 2.0114, 1.8821, 2.1928, 2.0895, 1.6955,\n",
      "        2.2460, 2.2305, 2.0450, 1.4625, 2.1559, 2.2263, 2.1372, 2.2697, 1.9847,\n",
      "        2.0745, 2.1370, 2.1942, 2.2221, 2.0426, 2.0833, 2.0572, 1.5748, 2.0832,\n",
      "        2.1455, 2.2030, 1.7495, 2.1933, 2.1854, 2.2712, 2.1248, 2.2013, 1.8025,\n",
      "        1.5090, 2.2003, 2.1783, 2.0898, 2.0838, 2.1315, 2.2519, 2.1183, 2.0485,\n",
      "        2.1117, 1.9410, 1.9199, 2.1292, 2.2689, 1.9553, 1.9757, 2.2664, 2.1710,\n",
      "        2.2411, 1.1019, 2.2295, 2.0101, 2.1084, 2.1120, 2.1303, 1.6316, 2.1652,\n",
      "        2.2350, 1.9508, 2.1670, 2.1587, 2.2202, 2.1000, 2.1806, 1.3387, 2.1741,\n",
      "        2.0901, 2.2276, 2.2290, 2.1770, 2.1596, 2.2313, 2.2312, 2.2572, 2.1924,\n",
      "        2.1645, 2.1014, 2.2597, 2.2138, 2.2303, 1.5947, 2.2597, 2.0037, 2.1338,\n",
      "        2.1251, 2.1338, 2.1441, 2.1987, 2.2393, 2.1022, 2.1525, 2.2345, 2.2280,\n",
      "        2.1779, 1.4144, 2.2303, 2.1817, 2.1044, 2.1696, 2.1138, 2.2022, 2.2489,\n",
      "        2.0764, 2.1625, 2.0465, 2.1751, 2.1857, 2.2538, 2.1711, 1.6356, 2.2336,\n",
      "        2.1121, 2.1838, 1.8040, 2.1358, 2.1691, 2.2317, 2.1691, 2.2458, 1.8866,\n",
      "        2.1063, 2.1861, 2.1341, 2.1665, 1.9550, 2.0753, 2.1833, 2.2101, 2.1011,\n",
      "        2.1003, 2.0034, 1.9731, 2.1833, 2.1484, 2.1051, 2.1765, 2.2635, 2.2425,\n",
      "        2.2288, 2.1034, 2.2218, 2.2129, 2.2340, 2.1747, 2.2258, 2.2254, 2.1350,\n",
      "        2.2042, 1.7130, 2.0383, 2.1331, 2.1979, 2.2358, 2.1355, 2.1400, 2.1863,\n",
      "        2.0649, 2.0305, 2.0817, 2.1425, 2.2283, 2.1778, 2.1496, 2.2082, 2.1079,\n",
      "        2.1568, 2.1083, 1.9563, 2.2165, 2.1862, 1.4419, 2.1111, 2.0777, 2.2371,\n",
      "        1.8816, 2.2281, 1.7189, 2.2251, 1.5067, 2.1805, 2.1482, 2.1149, 2.2117,\n",
      "        1.2639, 2.2388, 2.1489, 2.1417, 2.1291, 2.1649, 2.2682, 2.0637, 2.2399,\n",
      "        2.2205, 2.2691, 2.1086, 1.7568, 2.0889, 1.7577, 2.1533, 1.8399, 2.1219,\n",
      "        2.1451, 2.2768, 2.2404, 2.1449, 1.8592, 2.2076, 2.1490],\n",
      "       grad_fn=<NegBackward0>)\n"
     ]
    }
   ],
   "source": [
    "def compute_entropy(x):\n",
    "    z = ssvae.encoder(x)[0]\n",
    "    alpha = pyro.param(\"alpha_loc\")\n",
    "    beta = pyro.param(\"beta_loc\")\n",
    "    logits =   z @ beta + alpha\n",
    "    return dist.Categorical(logits=logits).entropy()\n",
    "\n",
    "for i, (x, y) in enumerate(train_loader):\n",
    "    entropy = compute_entropy(x)\n",
    "    print(entropy)\n",
    "    break"
   ]
  },
  {
   "cell_type": "code",
   "execution_count": null,
   "metadata": {},
   "outputs": [],
   "source": [
    "for x, y in train_loader:\n",
    "    entropy = compute_entropy(x)\n",
    "    print(entropy)\n",
    "    break"
   ]
  }
 ],
 "metadata": {
  "colab": {
   "collapsed_sections": [],
   "name": "06 - Classification models - Part 4 - Pyro - solutions.ipynb",
   "provenance": [
    {
     "file_id": "1zDyH0gmY7AuI_B2WhQAOynB4OQT0DzLP",
     "timestamp": 1582453187450
    },
    {
     "file_id": "1oDcOaKqMYlOrjxBYZVdYlG1ftELfczp6",
     "timestamp": 1582450341637
    }
   ]
  },
  "kernelspec": {
   "display_name": ".venv",
   "language": "python",
   "name": "python3"
  },
  "language_info": {
   "codemirror_mode": {
    "name": "ipython",
    "version": 3
   },
   "file_extension": ".py",
   "mimetype": "text/x-python",
   "name": "python",
   "nbconvert_exporter": "python",
   "pygments_lexer": "ipython3",
   "version": "3.9.6"
  }
 },
 "nbformat": 4,
 "nbformat_minor": 0
}
