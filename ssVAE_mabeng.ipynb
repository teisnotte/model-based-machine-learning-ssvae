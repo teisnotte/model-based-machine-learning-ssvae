{
 "cells": [
  {
   "cell_type": "markdown",
   "metadata": {
    "id": "C60ZAm4-Yo4M"
   },
   "source": [
    "# Week 12 - Generative models  \n",
    "\n",
    "## Part 2: Variational Autoencoders (VAEs)\n",
    "\n"
   ]
  },
  {
   "cell_type": "markdown",
   "metadata": {
    "id": "VsSfbUYyiOP2"
   },
   "source": [
    "This part we move towards a non-linear mapping between the latent space z and the observation/input space x. Concretely, we will implement a VAE in Pyro."
   ]
  },
  {
   "cell_type": "markdown",
   "metadata": {
    "id": "zCHBydp2Yo4N"
   },
   "source": [
    "Import required libraries:"
   ]
  },
  {
   "cell_type": "code",
   "execution_count": 97,
   "metadata": {
    "colab": {
     "base_uri": "https://localhost:8080/"
    },
    "executionInfo": {
     "elapsed": 5377,
     "status": "ok",
     "timestamp": 1646648637408,
     "user": {
      "displayName": "Filipe Rodrigues",
      "photoUrl": "https://lh3.googleusercontent.com/a-/AOh14GgANv2Od365vLQDnVjoxw2PUote-kpb5nugTmcQwA=s64",
      "userId": "15636531912642599438"
     },
     "user_tz": -60
    },
    "id": "Ei1QbnmhYyXM",
    "outputId": "ff76128a-ac98-4741-e58e-00fb4a40241e"
   },
   "outputs": [],
   "source": [
    "# Install Pyro, if necessary\n",
    "#!pip install pyro-ppl"
   ]
  },
  {
   "cell_type": "code",
   "execution_count": 98,
   "metadata": {
    "executionInfo": {
     "elapsed": 4897,
     "status": "ok",
     "timestamp": 1646648642167,
     "user": {
      "displayName": "Filipe Rodrigues",
      "photoUrl": "https://lh3.googleusercontent.com/a-/AOh14GgANv2Od365vLQDnVjoxw2PUote-kpb5nugTmcQwA=s64",
      "userId": "15636531912642599438"
     },
     "user_tz": -60
    },
    "id": "iGyKT_grYo4O"
   },
   "outputs": [],
   "source": [
    "import numpy as np\n",
    "import torch\n",
    "import torch.nn as nn\n",
    "from mnist_cached import MNISTCached as MNIST\n",
    "from mnist_cached import setup_data_loaders\n",
    "from vae_plots import mnist_test_tsne, plot_llk, plot_vae_samples\n",
    "\n",
    "import pyro\n",
    "import pyro.distributions as dist\n",
    "from pyro.infer import SVI, Trace_ELBO\n",
    "from pyro.optim import Adam\n",
    "import pyro.poutine as poutine\n",
    "from pyro.contrib.autoguide import AutoDiagonalNormal, AutoMultivariateNormal\n",
    "\n",
    "\n",
    "# fix random generator seed (for reproducibility of results)\n",
    "np.random.seed(42)\n",
    "\n",
    "# matplotlib style options\n",
    "from matplotlib import pyplot as plt\n",
    "plt.style.use('ggplot')\n",
    "%matplotlib inline\n",
    "plt.rcParams['figure.figsize'] = (12, 8)"
   ]
  },
  {
   "cell_type": "code",
   "execution_count": 99,
   "metadata": {},
   "outputs": [],
   "source": [
    "torch.manual_seed(1234)\n",
    "np.random.seed(1234)"
   ]
  },
  {
   "cell_type": "markdown",
   "metadata": {
    "id": "fG-46wBlYo5d"
   },
   "source": [
    "## Variational Autoencoders in Pyro\n",
    "\n",
    "We will now implement a VAE in Pyro. Let us begin by recapping the model introduced in the class. The generative process can be summarize as follows:\n",
    "\n",
    "1. For each observation $n \\in \\{1,\\dots,N\\}$\n",
    "    1. Sample latent projection $\\textbf{z}_n \\sim \\mathcal{N}(\\textbf{z}_n|\\textbf{0}, \\textbf{I})$\n",
    "    2. Sample observation $\\textbf{x}_n \\sim \\mathcal{N}(\\textbf{x}_n|f_{\\boldsymbol\\theta}(\\textbf{z}_n))$\n",
    "\n",
    "Note that the neural network $f$ is outputting both the mean and variance of the Gaussian. \n",
    "\n",
    "Our goal is to compute the posterior distribution over the latent variables $\\textbf{z}_n$, while jointly finding point estimates for the parameters of that neural network $\\boldsymbol\\theta$. Note that you could also treat $\\boldsymbol\\theta$ as latent variables and perform inference on them as well (i.e. a Bayesian neural network), but, for this particular model, point estimates are usually sufficient. \n",
    "\n",
    "We will also need an approximate distribution $q(\\textbf{z})$ for VI. As we saw in the slides, we will use a second neural network $g$ to parameterize this variational distribution $q$. Therefore, we can represent the entire process of the training a VAE as follows:\n",
    "\n",
    "<img style=\"width:50%\" src=\"http://mlsm.man.dtu.dk/vae.png\">\n",
    "\n",
    "In the diagram, $g$ is the encoder network and $f$ is the decoder network. Lets begin by implementing those two neural networks in Torch:"
   ]
  },
  {
   "cell_type": "code",
   "execution_count": 100,
   "metadata": {},
   "outputs": [],
   "source": [
    "# define the PyTorch module that parameterizes the\n",
    "# diagonal gaussian distribution q(z|x)\n",
    "class Encoder(nn.Module):\n",
    "    def __init__(self, z_dim, hidden_dim, input_dim):\n",
    "        self.input_dim = input_dim\n",
    "        super().__init__()\n",
    "        # setup the three linear transformations used\n",
    "        self.fc1 = nn.Linear(input_dim, hidden_dim)\n",
    "        self.fc21 = nn.Linear(hidden_dim, z_dim)\n",
    "        self.fc22 = nn.Linear(hidden_dim, z_dim)\n",
    "        # setup the non-linearities\n",
    "        self.softplus = nn.Softplus()\n",
    "\n",
    "    def forward(self, x):\n",
    "        # define the forward computation on the image x\n",
    "        # first shape the mini-batch to have pixels in the rightmost dimension\n",
    "        x = x.reshape(-1, self.input_dim)\n",
    "        # then compute the hidden units\n",
    "        hidden = self.softplus(self.fc1(x))\n",
    "        # then return a mean vector and a (positive) square root covariance\n",
    "        # each of size batch_size x z_dim\n",
    "        z_loc = self.fc21(hidden)\n",
    "        z_scale = torch.exp(self.fc22(hidden))\n",
    "        return z_loc, z_scale\n",
    "\n",
    "\n",
    "# define the PyTorch module that parameterizes the\n",
    "# observation likelihood p(x|z)\n",
    "class Decoder(nn.Module):\n",
    "    def __init__(self, z_dim, hidden_dim, output_dim, binary=False):\n",
    "        self.binary = binary\n",
    "        super().__init__()\n",
    "        # setup the two linear transformations used\n",
    "        self.fc1 = nn.Linear(z_dim, hidden_dim)\n",
    "        self.fc21 = nn.Linear(hidden_dim, output_dim)\n",
    "        if not self.binary:\n",
    "            self.fc22 = nn.Linear(hidden_dim, output_dim)\n",
    "        # setup the non-linearities\n",
    "        self.softplus = nn.Softplus()\n",
    "\n",
    "    def forward(self, z):\n",
    "        # define the forward computation on the latent z\n",
    "        # first compute the hidden units\n",
    "        hidden = self.softplus(self.fc1(z))\n",
    "        # return the parameter for the output Bernoulli\n",
    "        # each is of size batch_size x input_dim\n",
    "        if self.binary:\n",
    "            out = torch.sigmoid(self.fc21(hidden))\n",
    "        else:\n",
    "            out = (self.fc21(hidden), self.softplus(self.fc22(hidden)))\n",
    "        return out"
   ]
  },
  {
   "cell_type": "markdown",
   "metadata": {},
   "source": [
    "Now that we have defined $f$ and $g$, we can use them to implement the model() and guide() in Pyro:\n",
    "\n",
    "- The guide() will take the observations $\\textbf{x}$ as input, pass them through the encoder network $g$, and use the output of the encoder to parameterize the variational approximation $q(\\textbf{z})$. You can do a forward pass through the encoder using: ``self.encoder.forward(x)``. \n",
    "\n",
    "- The model() just follows the generative process of the VAE described above. For each observation $n$, it samples $\\textbf{z}_n \\sim \\mathcal{N}(\\textbf{z}_n|\\textbf{0}, \\textbf{I})$ and passes the samples through the decoder network $f$, in order to produce the parameters of the observation distributon $\\mathcal{N}(\\textbf{x}_n|f_{\\boldsymbol\\theta}(\\textbf{z}_n))$. You can do a forward pass through the decoder using: ``self.decoder.forward(z)``. \n",
    "\n",
    "Can try to you implement the guide() and model() for the Pyro model below? "
   ]
  },
  {
   "cell_type": "code",
   "execution_count": 101,
   "metadata": {},
   "outputs": [],
   "source": [
    "\n",
    "# define a PyTorch module for the VAE\n",
    "class VAE(nn.Module):\n",
    "    # by default our latent space is 50-dimensional\n",
    "    # and we use 400 hidden units\n",
    "    def __init__(self, z_dim=50, hidden_dim=400, input_dim=784, binary=False, use_cuda=False):\n",
    "        self.input_dim = input_dim\n",
    "        self.binary = binary\n",
    "        super().__init__()\n",
    "        # create the encoder and decoder networks\n",
    "        self.encoder = Encoder(z_dim, hidden_dim, input_dim)\n",
    "        self.decoder = Decoder(z_dim, hidden_dim, input_dim, binary=binary)\n",
    "\n",
    "        if use_cuda:\n",
    "            # calling cuda() here will put all the parameters of\n",
    "            # the encoder and decoder networks into gpu memory\n",
    "            self.cuda()\n",
    "        self.use_cuda = use_cuda\n",
    "        self.z_dim = z_dim\n",
    "\n",
    "    # define the model p(x|z)p(z)\n",
    "    def model(self, x):\n",
    "        # register PyTorch module `decoder` with Pyro\n",
    "        pyro.module(\"decoder\", self.decoder)\n",
    "\n",
    "        with pyro.plate(\"data\", x.shape[0]):\n",
    "            z_loc = torch.zeros(x.shape[0], self.z_dim)\n",
    "            z_scale = torch.ones(x.shape[0], self.z_dim)\n",
    "            z = pyro.sample(\"z\", dist.Normal(z_loc, z_scale).to_event(1))\n",
    "            img = self.decoder.forward(z)\n",
    "            if self.binary:\n",
    "                # sample from the Bernoulli distribution\n",
    "                pyro.sample(\"obs\", dist.Bernoulli(img, validate_args=False).to_event(1), obs=x.reshape(-1, self.input_dim))\n",
    "            else:\n",
    "                # sample from the Gaussian distribution\n",
    "                loc, scale = img\n",
    "                pyro.sample(\"obs\", dist.Normal(loc, scale, validate_args=False).to_event(1), obs=x.reshape(-1, self.input_dim))\n",
    "\n",
    "    # define the guide (i.e. variational distribution) q(z|x)\n",
    "    def guide(self, x):\n",
    "        # register PyTorch module `encoder` with Pyro\n",
    "        pyro.module(\"encoder\", self.encoder)\n",
    "        \n",
    "        with pyro.plate(\"data\", x.shape[0]):\n",
    "            z_loc, z_scale = self.encoder.forward(x)\n",
    "            z = pyro.sample(\"z\", dist.Normal(z_loc, z_scale).to_event(1))\n",
    "\n",
    "\n",
    "    # define a helper function for reconstructing images (this will useful later - ignore for now)\n",
    "    def reconstruct_img(self, x):\n",
    "        # encode image x\n",
    "        z_loc, z_scale = self.encoder(x)\n",
    "        # sample in latent space\n",
    "        z = dist.Normal(z_loc, z_scale).sample()\n",
    "        # decode the image (note we don't sample in image space)\n",
    "        loc_img = self.decoder(z)\n",
    "        return loc_img"
   ]
  },
  {
   "cell_type": "markdown",
   "metadata": {},
   "source": [
    "Now that the Pyro model is defined, lets run Bayesian inference on it. Note that the encoder and decoder networks will be trained jointly as part of the VI process."
   ]
  },
  {
   "cell_type": "markdown",
   "metadata": {},
   "source": [
    "As we did for PPCA, we can look at the reconstructions of the inputs $\\textbf{x}$ and see how good they are."
   ]
  },
  {
   "cell_type": "markdown",
   "metadata": {},
   "source": [
    "## VAE application in computer vision\n",
    "\n",
    "The Iris data is relatively simple. Lets now look at a more complex application in computer vision, where the VAE can really start to shine. Concretely, we will try to model images of digits using a VAE - the MNIST dataset. In the code below, we will load the datasets and train the VAE model on it. We will use a larger dimensionality (``z_dim=50``) of the latent space $\\textbf{z}$.\n",
    "\n",
    "Note: training the VAE on this dataset will take a few minutes (about 5-10 minutes, depending on your computer)."
   ]
  },
  {
   "cell_type": "code",
   "execution_count": 102,
   "metadata": {},
   "outputs": [],
   "source": [
    "use_cuda = False\n",
    "\n",
    "# clear param store\n",
    "pyro.clear_param_store()\n",
    "\n",
    "\n"
   ]
  },
  {
   "cell_type": "code",
   "execution_count": 103,
   "metadata": {},
   "outputs": [],
   "source": [
    "loaders = setup_data_loaders(MNIST, use_cuda=False, batch_size=250, sup_num=49000)\n",
    "train_loader = loaders[\"sup\"]\n",
    "test_loader = loaders[\"test\"]"
   ]
  },
  {
   "cell_type": "code",
   "execution_count": 104,
   "metadata": {},
   "outputs": [
    {
     "name": "stdout",
     "output_type": "stream",
     "text": [
      "[epoch 000]  average training loss: 221.2636\n",
      "[epoch 000]  average test loss: 241.3857\n",
      "[epoch 005]  average training loss: 191.8643\n",
      "[epoch 005]  average test loss: 195.6175\n",
      "[epoch 010]  average training loss: 162.0735\n",
      "[epoch 010]  average test loss: 167.8877\n",
      "[epoch 015]  average training loss: 138.9674\n",
      "[epoch 015]  average test loss: 143.3437\n",
      "[epoch 020]  average training loss: 125.3719\n",
      "[epoch 020]  average test loss: 128.3558\n",
      "[epoch 025]  average training loss: 118.0009\n",
      "[epoch 025]  average test loss: 120.6861\n"
     ]
    }
   ],
   "source": [
    "\n",
    "\n",
    "# setup the VAE\n",
    "vae = VAE(use_cuda=use_cuda, z_dim=50, hidden_dim=400, input_dim=784, binary=True)\n",
    "\n",
    "# setup the optimizer\n",
    "adam_args = {\"lr\": 1.0e-3}\n",
    "optimizer = Adam(adam_args)\n",
    "\n",
    "# setup the inference algorithm\n",
    "elbo = Trace_ELBO()\n",
    "svi = SVI(vae.model, vae.guide, optimizer, loss=elbo)\n",
    "\n",
    "train_elbo = {}\n",
    "test_elbo = {}\n",
    "# training loop\n",
    "num_epochs = 30\n",
    "for epoch in range(num_epochs):\n",
    "    # initialize loss accumulator\n",
    "    epoch_loss = 0.0\n",
    "    # do a training epoch over each mini-batch x returned\n",
    "    # by the data loader\n",
    "    for x, _ in train_loader:\n",
    "        # if on GPU put mini-batch into CUDA memory\n",
    "        if use_cuda:\n",
    "            x = x.cuda()\n",
    "        # do ELBO gradient and accumulate loss\n",
    "        epoch_loss += svi.step(x)\n",
    "\n",
    "    if epoch % 5 == 0:\n",
    "        # report training diagnostics\n",
    "        normalizer_train = len(train_loader.dataset)\n",
    "        total_epoch_loss_train = epoch_loss / normalizer_train\n",
    "        train_elbo[epoch] = total_epoch_loss_train\n",
    "        print(\"[epoch %03d]  average training loss: %.4f\" % (epoch, total_epoch_loss_train))\n",
    "        \n",
    "        # initialize loss accumulator\n",
    "        test_loss = 0.0\n",
    "        # compute the loss over the entire test set\n",
    "        for i, (x, _) in enumerate(test_loader):\n",
    "            # if on GPU put mini-batch into CUDA memory\n",
    "            if use_cuda:\n",
    "                x = x.cuda()\n",
    "            # compute ELBO estimate and accumulate loss\n",
    "            test_loss += svi.evaluate_loss(x)\n",
    "\n",
    "        # report test diagnostics\n",
    "        normalizer_test = len(test_loader.dataset)\n",
    "    \n",
    "        total_epoch_loss_test = test_loss / normalizer_test\n",
    "        test_elbo[epoch] = total_epoch_loss_test\n",
    "        print(\"[epoch %03d]  average test loss: %.4f\" % (epoch, total_epoch_loss_test))\n",
    "        plot_llk(train_elbo, test_elbo)"
   ]
  },
  {
   "cell_type": "markdown",
   "metadata": {},
   "source": [
    "We can now look at the reconstructions produced by the VAE model for a subset of the digits in the dataset:"
   ]
  },
  {
   "cell_type": "code",
   "execution_count": 105,
   "metadata": {},
   "outputs": [],
   "source": [
    "# # pick 10 random test images from the first mini-batch and visualize how well we're reconstructing them\n",
    "# fig, axs = plt.subplots(10,2, figsize=(6,20))\n",
    "# x = next(iter(test_loader))[0]\n",
    "# # if on GPU put mini-batch into CUDA memory\n",
    "# if use_cuda:\n",
    "#     x = x.cuda()\n",
    "# #plot_vae_samples(vae, vis)\n",
    "# reco_indices = np.random.randint(0, x.shape[0], 10)\n",
    "# for i in range(10):\n",
    "#     index = reco_indices[i]\n",
    "#     test_img = x[index, :]\n",
    "#     reco_img = vae.reconstruct_img(test_img)\n",
    "#     #vis.image(\n",
    "#     #    test_img.reshape(28, 28).detach().cpu().numpy(),\n",
    "#     #    opts={\"caption\": \"test image\"},\n",
    "#     #)\n",
    "#     #vis.image(\n",
    "#     #    reco_img.reshape(28, 28).detach().cpu().numpy(),\n",
    "#     #    opts={\"caption\": \"reconstructed image\"},\n",
    "#     #)\n",
    "#     axs[i,0].imshow(test_img.reshape(28, 28).detach().cpu().numpy(), cmap=\"Greys\")\n",
    "#     axs[i,1].imshow(reco_img.reshape(28, 28).detach().cpu().numpy(), cmap=\"Greys\")\n",
    "    \n",
    "# axs[0,0].set_title(\"True image\");\n",
    "# axs[0,1].set_title(\"Reconstruction\");"
   ]
  },
  {
   "cell_type": "markdown",
   "metadata": {},
   "source": [
    "We can also try to visualize the projections of the digits in the latent space. However, in this case, the latent projections are still 50-dimensional!! We will need to project them down even further if we want to visualize them on a 2-D plot. For this, we will use a dimensionality reduction called t-SNE. t-SNE tries to project down the data while attempting to perserve the (Euclidean) distances between all pairs of data points (observations) in the dataset. Lets do that and see how it looks:"
   ]
  },
  {
   "cell_type": "code",
   "execution_count": 106,
   "metadata": {},
   "outputs": [],
   "source": [
    "# mnist_test_tsne(vae=vae, test_loader=test_loader)"
   ]
  },
  {
   "cell_type": "markdown",
   "metadata": {},
   "source": [
    "As we can see, the observations of the different digits are nicely separated (clustered) in the latent space $\\textbf{z}$. I.e., all observations of the digit 5 are clustered together in the latent space, and similarly for other digits.\n",
    "\n",
    "Lastly, since the VAE is a generative model, we can use it to sample new observations (\"fake data\"). We can do this by sampling $z$ from a standard Gaussian distribution and passing those samples through the decoder network. \n",
    "\n",
    "Lets do this to generate 10 new samples of digit images:"
   ]
  },
  {
   "cell_type": "code",
   "execution_count": 107,
   "metadata": {},
   "outputs": [],
   "source": [
    "# plt.figure()\n",
    "# for i in range(10):\n",
    "#     z_loc = torch.zeros(vae.z_dim, dtype=x.dtype, device=x.device)\n",
    "#     z_scale = torch.ones(vae.z_dim, dtype=x.dtype, device=x.device)\n",
    "#     z = dist.Normal(z_loc, z_scale).rsample()\n",
    "#     out = vae.decoder.forward(z)\n",
    "#     # plt.figure(figsize=(3,3))\n",
    "#     plt.imshow(out.reshape(28, 28).detach().cpu().numpy(), cmap=\"Greys\")"
   ]
  },
  {
   "cell_type": "markdown",
   "metadata": {},
   "source": [
    "\n",
    "------------------------------------------------------------------------\n",
    "\n",
    "--------------------------------------------------------------------------------\n",
    "2) Define a Pyro model and guide for a multiclass linear classifier\n",
    "--------------------------------------------------------------------------------\n",
    "\n",
    "We will create a K-class linear model y ∼ Categorical(logits = z_loc @ W + b).  \n",
    "\n",
    "Note: for Iris, K=3 classes, but this approach generalizes to any K ≥ 2.\n",
    "\n",
    "------------------------------------------------------------------------"
   ]
  },
  {
   "cell_type": "code",
   "execution_count": 108,
   "metadata": {},
   "outputs": [],
   "source": [
    "\n",
    "num_classes = 10 # as we have 10 digits in MNIST\n"
   ]
  },
  {
   "cell_type": "code",
   "execution_count": 109,
   "metadata": {},
   "outputs": [],
   "source": [
    "def classifier_model(x, obs=None):\n",
    "    z = vae.encoder(x)[0]\n",
    "    alpha = pyro.sample(\"alpha_c\", pyro.distributions.Normal(0., 1.).expand( [num_classes]).to_event())\n",
    "    beta = pyro.sample(\"beta_c\", pyro.distributions.Normal(0., 1.).expand([z.shape[1], num_classes]).to_event())\n",
    "    logits =   z @ beta + alpha\n",
    "    with pyro.plate(\"data\", z.shape[0]):\n",
    "        y = pyro.sample(\"y\", pyro.distributions.Categorical(logits=logits), obs=obs)"
   ]
  },
  {
   "cell_type": "markdown",
   "metadata": {},
   "source": [
    "\n",
    "------------------------------------------------------------------------\n",
    "\n",
    "--------------------------------------------------------------------------------\n",
    "3) Train the classifier in Pyro using SVI\n",
    "--------------------------------------------------------------------------------\n",
    "\n",
    "You can run standard Pyro SVI over these model/guide definitions. For example:\n",
    "\n",
    "------------------------------------------------------------------------"
   ]
  },
  {
   "cell_type": "code",
   "execution_count": null,
   "metadata": {},
   "outputs": [],
   "source": []
  },
  {
   "cell_type": "code",
   "execution_count": 110,
   "metadata": {},
   "outputs": [
    {
     "name": "stdout",
     "output_type": "stream",
     "text": [
      "[step 0] loss = 333303.34\n",
      "[step 5] loss = 201082.58\n",
      "[step 10] loss = 145902.91\n",
      "[step 15] loss = 120464.20\n",
      "[step 20] loss = 107024.79\n",
      "[step 25] loss = 98627.47\n",
      "[step 30] loss = 95109.98\n",
      "[step 35] loss = 90997.45\n",
      "[step 40] loss = 86625.78\n",
      "[step 45] loss = 85900.31\n",
      "[step 50] loss = 86355.47\n",
      "[step 55] loss = 83503.53\n",
      "[step 60] loss = 84196.42\n",
      "[step 65] loss = 83403.11\n",
      "[step 70] loss = 83599.09\n",
      "[step 75] loss = 82218.69\n",
      "[step 80] loss = 83530.79\n",
      "[step 85] loss = 81825.66\n",
      "[step 90] loss = 83074.99\n",
      "[step 95] loss = 80870.03\n"
     ]
    }
   ],
   "source": [
    "# Clear out any existing parameter values\n",
    "# pyro.clear_param_store()\n",
    "\n",
    "classifier_guide = AutoMultivariateNormal(classifier_model)\n",
    "\n",
    "optimizer = Adam({\"lr\": 1.0e-3})\n",
    "# Setup SVI\n",
    "svi_classifier = SVI(\n",
    "    model=classifier_model,\n",
    "    guide=classifier_guide,\n",
    "    optim=optimizer,\n",
    "    loss=Trace_ELBO(num_particles=3),\n",
    ")\n",
    "num_steps = 100  # Adjust as needed\n",
    "for step in range(num_steps):\n",
    "    epoch_loss = 0.0\n",
    "    for x, y in train_loader:\n",
    "        # if on GPU put mini-batch into CUDA memory\n",
    "        if use_cuda:\n",
    "            x = x.cuda()\n",
    "            y = y.cuda()\n",
    "        y = np.argmax(y, axis=1) # FIX THIS. Ensure that it is converted in the right way\n",
    "        # do ELBO gradient and accumulate loss\n",
    "        epoch_loss += svi_classifier.step(x, y)\n",
    "    if step % 5 == 0:\n",
    "        print(f\"[step {step}] loss = {epoch_loss:.2f}\")\n"
   ]
  },
  {
   "cell_type": "code",
   "execution_count": 111,
   "metadata": {},
   "outputs": [],
   "source": [
    "# # pick 10 random test images from the first mini-batch and visualize how well we're reconstructing them\n",
    "# fig, axs = plt.subplots(10,2, figsize=(6,20))\n",
    "# x = next(iter(train_loader))[0]\n",
    "# # if on GPU put mini-batch into CUDA memory\n",
    "# if use_cuda:\n",
    "#     x = x.cuda()\n",
    "# #plot_vae_samples(vae, vis)\n",
    "# reco_indices = np.random.randint(0, x.shape[0], 10)\n",
    "# for i in range(10):\n",
    "#     index = reco_indices[i]\n",
    "#     test_img = x[index, :]\n",
    "#     reco_img = vae.reconstruct_img(test_img)\n",
    "#     axs[i,0].imshow(test_img.reshape(28, 28).detach().cpu().numpy(), cmap=\"Greys\")\n",
    "#     axs[i,1].imshow(reco_img.reshape(28, 28).detach().cpu().numpy(), cmap=\"Greys\")\n",
    "    \n",
    "# axs[0,0].set_title(\"True image\");\n",
    "# axs[0,1].set_title(\"Reconstruction\");\n",
    "\n",
    "\n",
    "# # Get true labels\n",
    "# true_labels = torch.argmax(y_batch[reco_indices], dim=1)\n",
    "\n",
    "# for i in range(10):\n",
    "#     index = reco_indices[i]\n",
    "#     axs[i,0].set_xlabel(f\"True: {true_labels[i].item()}\")\n",
    "#     # axs[i,1].set_xlabel(f\"Predicted: {predicted_labels[i].item()}\")"
   ]
  },
  {
   "cell_type": "code",
   "execution_count": 112,
   "metadata": {},
   "outputs": [],
   "source": [
    "# plt.imshow(reco_img.reshape(28, 28).detach().cpu().numpy())"
   ]
  },
  {
   "cell_type": "code",
   "execution_count": 113,
   "metadata": {},
   "outputs": [],
   "source": [
    "%matplotlib inline\n"
   ]
  },
  {
   "cell_type": "code",
   "execution_count": 114,
   "metadata": {},
   "outputs": [],
   "source": [
    "\n",
    "# define a PyTorch module for the VAE\n",
    "class ssVAE(nn.Module):\n",
    "    # by default our latent space is 50-dimensional\n",
    "    # and we use 400 hidden units\n",
    "    def __init__(self, z_dim=50, hidden_dim=400, input_dim=784, binary=False, use_cuda=False):\n",
    "        self.input_dim = input_dim\n",
    "        self.binary = binary\n",
    "        super().__init__()\n",
    "        # create the encoder and decoder networks\n",
    "        self.encoder = Encoder(z_dim, hidden_dim, input_dim)\n",
    "        self.decoder = Decoder(z_dim, hidden_dim, input_dim, binary=binary)\n",
    "\n",
    "        if use_cuda:\n",
    "            # calling cuda() here will put all the parameters of\n",
    "            # the encoder and decoder networks into gpu memory\n",
    "            self.cuda()\n",
    "        self.use_cuda = use_cuda\n",
    "        self.z_dim = z_dim\n",
    "\n",
    "    # define the model p(x|z)p(z)\n",
    "    def model(self, x, y=None, fraction=1.0):\n",
    "        BATCH_SIZE = x.shape[0]\n",
    "        # register PyTorch module `decoder` with Pyro\n",
    "        pyro.module(\"decoder\", self.decoder)\n",
    "        alpha = pyro.sample(\"alpha\", pyro.distributions.Normal(0., 1.).expand([num_classes]).to_event(1))\n",
    "        beta = pyro.sample(\"beta\", pyro.distributions.Normal(0., 1.).expand([self.z_dim, num_classes]).to_event(2))\n",
    "        with pyro.plate(\"data\", x.shape[0]):\n",
    "            z_loc = torch.zeros(x.shape[0], self.z_dim)\n",
    "            z_scale = torch.ones(x.shape[0], self.z_dim)\n",
    "            z = pyro.sample(\"z\", dist.Normal(z_loc, z_scale).to_event(1))\n",
    "            # Prepare for classification\n",
    "            logits =   z @ beta + alpha\n",
    "            # Reconstruct image\n",
    "            img = self.decoder.forward(z)\n",
    "\n",
    "            # Sample from the observation likelihood\n",
    "            if self.binary:\n",
    "                # sample from the Bernoulli distribution\n",
    "                pyro.sample(\"obs\", dist.Bernoulli(img, validate_args=False).to_event(1), obs=x.reshape(-1, self.input_dim))\n",
    "                is_labelled = (y != -1)\n",
    "                y[~is_labelled] = 0\n",
    "                with poutine.mask(mask=is_labelled):\n",
    "                    with pyro.poutine.scale(scale=1/fraction):\n",
    "                        pyro.sample(\"y\", dist.Categorical(logits=logits), obs=y, infer={'is_auxiliary': True})\n",
    "\n",
    "    def guide(self, x, y=None, fraction=None):\n",
    "        # register PyTorch modules with Pyro\n",
    "        pyro.module(\"encoder\", self.encoder)\n",
    "\n",
    "        # approximate posterior over alpha and beta\n",
    "        alpha_loc = pyro.param(\"alpha_loc\", torch.zeros(num_classes))\n",
    "        alpha_scale = pyro.param(\"alpha_scale\", torch.ones(num_classes))\n",
    "        pyro.sample(\"alpha\", dist.Normal(alpha_loc, alpha_scale).to_event(1))\n",
    "\n",
    "        beta_loc = pyro.param(\"beta_loc\", torch.zeros(self.z_dim, num_classes))\n",
    "        beta_scale = pyro.param(\"beta_scale\", torch.ones(self.z_dim, num_classes))\n",
    "        beta = pyro.sample(\"beta\", dist.Normal(beta_loc, beta_scale).to_event(2))\n",
    "        \n",
    "        with pyro.plate(\"data\", x.shape[0]):\n",
    "            # approximate posterior over z\n",
    "            z_loc, z_scale = self.encoder.forward(x)\n",
    "            z = pyro.sample(\"z\", dist.Normal(z_loc, z_scale).to_event(1))\n",
    "\n",
    "            \n",
    "            # for unlabeled data, sample y from the classifier\n",
    "            if y is not None:\n",
    "                mask_unlabelled = (y == -1)\n",
    "                if torch.any(mask_unlabelled):\n",
    "                    logits = z @ beta + alpha_loc\n",
    "                    with poutine.mask(mask=mask_unlabelled):\n",
    "                        pyro.sample(\"y\", dist.Categorical(logits=logits),infer={'is_auxiliary': True})\n",
    "                \n",
    "    def classifier(self, x):\n",
    "        z_loc, z_scale = self.encoder(x)\n",
    "        z = z_loc\n",
    "        alpha_loc = pyro.param(\"alpha_loc\")\n",
    "        beta_loc = pyro.param(\"beta_loc\")\n",
    "        logits = z @ beta_loc + alpha_loc\n",
    "        return torch.argmax(logits, dim=1)\n",
    "\n",
    "\n",
    "    # define a helper function for reconstructing images (this will useful later - ignore for now)\n",
    "    def reconstruct_img(self, x):\n",
    "        # encode image x\n",
    "        z_loc, z_scale = self.encoder(x)\n",
    "        # sample in latent space\n",
    "        z = dist.Normal(z_loc, z_scale).sample()\n",
    "        # decode the image (note we don't sample in image space)\n",
    "        loc_img = self.decoder(z)\n",
    "        return loc_img\n",
    "    \n",
    "    def recontruct_accuracy(self, x):\n",
    "        z_loc, z_scale = self.encoder(x)\n",
    "        z = dist.Normal(z_loc, z_scale).sample()\n",
    "        recon = self.decoder(z)\n",
    "        recon_bin = (recon > 0.5).float()\n",
    "        x_bin = (x > 0.5).float()\n",
    "        accuracy = (recon_bin == x_bin).float().mean().item()\n",
    "        return accuracy\n",
    "\n",
    "    def accuracy(self, x, y):\n",
    "        # encode image x\n",
    "        z, _ = self.encoder(x)\n",
    "        alpha_loc = pyro.param(\"alpha_loc\")\n",
    "        beta_loc = pyro.param(\"beta_loc\")\n",
    "        logits = z @ beta_loc + alpha_loc\n",
    "\n",
    "        y_pred = torch.argmax(logits, dim=1)\n",
    "        accuracy = (y == y_pred).float().mean().item()\n",
    "        return accuracy"
   ]
  },
  {
   "cell_type": "markdown",
   "metadata": {},
   "source": []
  },
  {
   "cell_type": "code",
   "execution_count": 115,
   "metadata": {},
   "outputs": [
    {
     "name": "stdout",
     "output_type": "stream",
     "text": [
      "[epoch 000]  average training loss: 234.1018\n",
      "             average accuracy: 0.2360\n",
      "             average reconstruction accuracy: 0.8756\n",
      "[epoch 000]  average test loss: 254.3778\n",
      "[epoch 005]  average training loss: 210.5378\n",
      "             average accuracy: 0.2047\n",
      "             average reconstruction accuracy: 0.8802\n",
      "[epoch 005]  average test loss: 213.8248\n",
      "[epoch 010]  average training loss: 181.2400\n",
      "             average accuracy: 0.4778\n",
      "             average reconstruction accuracy: 0.9026\n",
      "[epoch 010]  average test loss: 181.9506\n",
      "[epoch 015]  average training loss: 154.5447\n",
      "             average accuracy: 0.6903\n",
      "             average reconstruction accuracy: 0.9226\n",
      "[epoch 015]  average test loss: 156.4030\n",
      "[epoch 020]  average training loss: 139.0853\n",
      "             average accuracy: 0.8174\n",
      "             average reconstruction accuracy: 0.9359\n",
      "[epoch 020]  average test loss: 143.5564\n",
      "[epoch 025]  average training loss: 127.4282\n",
      "             average accuracy: 0.8813\n",
      "             average reconstruction accuracy: 0.9457\n",
      "[epoch 025]  average test loss: 131.1867\n"
     ]
    }
   ],
   "source": [
    "\n",
    "pyro.clear_param_store()\n",
    "\n",
    "# setup the VAE\n",
    "ssvae = ssVAE(use_cuda=use_cuda, z_dim=50, hidden_dim=400, input_dim=784, binary=True)\n",
    "\n",
    "# setup the optimizer\n",
    "adam_args = {\"lr\": 1.0e-3}\n",
    "optimizer = Adam(adam_args)\n",
    "\n",
    "# setup the inference algorithm\n",
    "elbo = Trace_ELBO()\n",
    "svi = SVI(ssvae.model, ssvae.guide, optimizer, loss=elbo)\n",
    "\n",
    "train_elbo = {}\n",
    "test_elbo = {}\n",
    "\n",
    "accuracy = []\n",
    "rec_accuracy = []\n",
    "\n",
    "# training loop\n",
    "num_epochs = 30\n",
    "for epoch in range(num_epochs):\n",
    "    # initialize loss accumulator\n",
    "    epoch_loss = 0.0\n",
    "    epoch_acc = []\n",
    "    epoch_rec_acc = []\n",
    "    # do a training epoch over each mini-batch x returned\n",
    "    # by the data loader\n",
    "    for x, y in train_loader:\n",
    "        # if on GPU put mini-batch into CUDA memory\n",
    "        y = np.argmax(y, axis=1)\n",
    "        if use_cuda:\n",
    "            x = x.cuda()\n",
    "            y = y.cuda()\n",
    "        # do ELBO gradient and accumulate loss\n",
    "        epoch_loss += svi.step(x, y)\n",
    "        epoch_acc.append(ssvae.accuracy(x, y))\n",
    "        epoch_rec_acc.append(ssvae.recontruct_accuracy(x))\n",
    "\n",
    "    # Store average accuracy for this epoch\n",
    "    accuracy.append(np.mean(epoch_acc))\n",
    "    rec_accuracy.append(np.mean(epoch_rec_acc))\n",
    "\n",
    "    if epoch % 5 == 0:\n",
    "        # report training diagnostics\n",
    "        normalizer_train = len(train_loader.dataset)\n",
    "        total_epoch_loss_train = epoch_loss / normalizer_train\n",
    "        train_elbo[epoch] = total_epoch_loss_train\n",
    "        print(\"[epoch %03d]  average training loss: %.4f\" % (epoch, total_epoch_loss_train))\n",
    "        print(\"             average accuracy: %.4f\" % (accuracy[-1]))\n",
    "        print(\"             average reconstruction accuracy: %.4f\" % (rec_accuracy[-1]))\n",
    "        \n",
    "        # initialize loss accumulator\n",
    "        test_loss = 0.0\n",
    "        # compute the loss over the entire test set\n",
    "        for i, (x, y) in enumerate(test_loader):\n",
    "            y = np.argmax(y, axis=1)\n",
    "            # if on GPU put mini-batch into CUDA memory\n",
    "            if use_cuda:\n",
    "                x = x.cuda()\n",
    "                y = y.cuda()\n",
    "            \n",
    "            # compute ELBO estimate and accumulate loss\n",
    "            test_loss += svi.evaluate_loss(x, y)\n",
    "\n",
    "        # report test diagnostics\n",
    "        normalizer_test = len(test_loader.dataset)\n",
    "    \n",
    "        total_epoch_loss_test = test_loss / normalizer_test\n",
    "        test_elbo[epoch] = total_epoch_loss_test\n",
    "        print(\"[epoch %03d]  average test loss: %.4f\" % (epoch, total_epoch_loss_test))\n",
    "        plot_llk(train_elbo, test_elbo)"
   ]
  },
  {
   "cell_type": "code",
   "execution_count": 116,
   "metadata": {},
   "outputs": [],
   "source": [
    "# ssvae.classifier(test_img)"
   ]
  },
  {
   "cell_type": "code",
   "execution_count": 117,
   "metadata": {},
   "outputs": [],
   "source": [
    "# np.argmax(y_batch[index])"
   ]
  },
  {
   "cell_type": "code",
   "execution_count": 118,
   "metadata": {},
   "outputs": [
    {
     "data": {
      "text/plain": [
       "Text(0.5, 1.0, 'Pred/True Label')"
      ]
     },
     "execution_count": 118,
     "metadata": {},
     "output_type": "execute_result"
    },
    {
     "data": {
      "image/png": "[encoded data removed]",
      "text/plain": [
       "<Figure size 900x2000 with 40 Axes>"
      ]
     },
     "metadata": {},
     "output_type": "display_data"
    }
   ],
   "source": [
    "# Obtain both data (x_batch) and labels (y_batch) from the test loader\n",
    "x_batch, y_batch = next(iter(test_loader))\n",
    "if use_cuda:\n",
    "    x_batch = x_batch.cuda()\n",
    "\n",
    "fig, axs = plt.subplots(10, 4, figsize=(9, 20))\n",
    "\n",
    "# Pick 10 random images to reconstruct\n",
    "reco_indices = np.random.randint(0, x_batch.shape[0], 10)\n",
    "for i in range(10):\n",
    "    index = reco_indices[i]\n",
    "    test_img = x_batch[index]\n",
    "\n",
    "    # Reconstructions from ssVAE and VAE\n",
    "    reco_img_ssvae = ssvae.reconstruct_img(test_img)\n",
    "    reco_img_vae = vae.reconstruct_img(test_img)\n",
    "    \n",
    "    # Classifier returns a distribution, so extract the predicted label\n",
    "    pred_label = int(ssvae.classifier(test_img))\n",
    "\n",
    "    # True label\n",
    "    true_label = np.argmax(y_batch[index])\n",
    "\n",
    "    axs[i, 0].imshow(test_img.reshape(28, 28).detach().cpu().numpy(), cmap=\"Greys\")\n",
    "    axs[i, 1].imshow(reco_img_ssvae.reshape(28, 28).detach().cpu().numpy(), cmap=\"Greys\")\n",
    "    axs[i, 2].imshow(reco_img_vae.reshape(28, 28).detach().cpu().numpy(), cmap=\"Greys\")\n",
    "\n",
    "    # Fourth subplot: display predicted and true label\n",
    "    axs[i, 3].axis(\"off\")\n",
    "    axs[i, 3].text(\n",
    "        0.5,\n",
    "        0.5,\n",
    "        f\"Pred: {pred_label}, True: {true_label}\",\n",
    "        fontsize=14,\n",
    "        ha=\"center\",\n",
    "        va=\"center\",\n",
    "    )\n",
    "\n",
    "axs[0, 0].set_title(\"True\")\n",
    "axs[0, 1].set_title(\"ssVAE\")\n",
    "axs[0, 2].set_title(\"VAE\")\n",
    "axs[0, 3].set_title(\"Pred/True Label\")\n"
   ]
  },
  {
   "cell_type": "code",
   "execution_count": null,
   "metadata": {},
   "outputs": [],
   "source": []
  },
  {
   "cell_type": "markdown",
   "metadata": {},
   "source": [
    "Things we are missing,\n",
    "\n",
    "1. DONE - Trying to reload data with another fraction of Unsupervised and supervised.\n",
    "2. DONE - Prepare a loss function for supervised and unsupervised. Making batches that have the same proportion of supervised datapoints. \n",
    "3. DONE - Reconstruction accuracy\n",
    "4. DONE - Classifcation Accuracy\n",
    "5. DONE - Might need more loops - Logits entropy based AL\n",
    "6. BALD (Bayesian Active Learning by Disagreement)\n",
    "7. Documentation\n",
    "8. Consider if should compare the T-SNE during our iterations (VAE, Supervised VAE, ssVAE)\n",
    "9. Show what the samples we pick look like, and if they are actually just sample with high VAE reconstruction error\n",
    "10. We might even be able to show sample location of the T-SNE plot.\n"
   ]
  },
  {
   "cell_type": "code",
   "execution_count": 119,
   "metadata": {},
   "outputs": [],
   "source": [
    "# First define data as Batchsize 1, then do manual batching afterwards.\n",
    "# Hereby, it will be much easier to evaluate."
   ]
  },
  {
   "cell_type": "code",
   "execution_count": 120,
   "metadata": {},
   "outputs": [],
   "source": [
    "def ss_loader(y, ss_fraction):\n",
    "    shape = y.shape\n",
    "    N = len(y)\n",
    "    L1 = int(N * (1-ss_fraction))\n",
    "    choices = np.random.choice(np.arange(N), L1, replace=False)\n",
    "    y = np.array(y)\n",
    "    y[choices] = -1\n",
    "    return torch.tensor(y, dtype=torch.float32).reshape(shape), list(choices)\n"
   ]
  },
  {
   "cell_type": "code",
   "execution_count": 121,
   "metadata": {},
   "outputs": [],
   "source": [
    "# for x,y in train_loader:\n",
    "#     y = np.argmax(y, axis=1)\n",
    "#     print(y.shape)\n",
    "#     y = ss_loader(y, 0.1)\n",
    "#     break"
   ]
  },
  {
   "cell_type": "code",
   "execution_count": 122,
   "metadata": {},
   "outputs": [
    {
     "name": "stdout",
     "output_type": "stream",
     "text": [
      "[epoch 000]  average training loss: 258.3043\n",
      "[epoch 000]  average test loss: 264.0229\n",
      "[epoch 005]  average training loss: 218.8065\n",
      "[epoch 005]  average test loss: 221.5388\n",
      "[epoch 010]  average training loss: 214.4933\n",
      "[epoch 010]  average test loss: 215.9347\n",
      "[epoch 015]  average training loss: 206.3739\n",
      "[epoch 015]  average test loss: 210.0495\n",
      "[epoch 020]  average training loss: 194.6537\n",
      "[epoch 020]  average test loss: 195.3423\n",
      "[epoch 025]  average training loss: 186.0837\n",
      "[epoch 025]  average test loss: 185.4622\n"
     ]
    }
   ],
   "source": [
    "\n",
    "pyro.clear_param_store()\n",
    "\n",
    "# setup the VAE\n",
    "ssvae = ssVAE(use_cuda=use_cuda, z_dim=50, hidden_dim=400, input_dim=784, binary=True)\n",
    "\n",
    "# setup the optimizer\n",
    "adam_args = {\"lr\": 1.0e-3}\n",
    "optimizer = Adam(adam_args)\n",
    "\n",
    "# setup the inference algorithm\n",
    "elbo = Trace_ELBO()\n",
    "svi = SVI(ssvae.model, ssvae.guide, optimizer, loss=elbo)\n",
    "\n",
    "train_elbo = {}\n",
    "test_elbo = {}\n",
    "# training loop\n",
    "num_epochs = 30\n",
    "fraction = 0.5\n",
    "\n",
    "for epoch in range(num_epochs):\n",
    "    # initialize loss accumulator\n",
    "    epoch_loss = 0.0\n",
    "    # do a training epoch over each mini-batch x returned\n",
    "    # by the data loader\n",
    "\n",
    "    idxs_unsup = []\n",
    "    for x, y in train_loader:\n",
    "        # if on GPU put mini-batch into CUDA memory\n",
    "        y = np.argmax(y, axis=1)\n",
    "        y, idx_unsup = ss_loader(y, fraction)\n",
    "        idxs_unsup.append(idx_unsup)\n",
    "        if use_cuda:\n",
    "            x = x.cuda()\n",
    "            y = y.cuda()\n",
    "\n",
    "        # do ELBO gradient and accumulate loss\n",
    "        epoch_loss += svi.step(x, y, fraction=fraction)\n",
    "        \n",
    "    if epoch % 5 == 0:\n",
    "        # report training diagnostics\n",
    "        normalizer_train = len(train_loader.dataset)\n",
    "        total_epoch_loss_train = epoch_loss / normalizer_train\n",
    "        train_elbo[epoch] = total_epoch_loss_train\n",
    "        print(\"[epoch %03d]  average training loss: %.4f\" % (epoch, total_epoch_loss_train))\n",
    "        \n",
    "        # initialize loss accumulator\n",
    "        test_loss = 0.0\n",
    "        # compute the loss over the entire test set\n",
    "        for i, (x, y) in enumerate(test_loader):\n",
    "            y = np.argmax(y, axis=1)\n",
    "            # if on GPU put mini-batch into CUDA memory\n",
    "            if use_cuda:\n",
    "                x = x.cuda()\n",
    "                y = y.cuda()\n",
    "            \n",
    "            # compute ELBO estimate and accumulate loss\n",
    "            test_loss += svi.evaluate_loss(x, y)\n",
    "\n",
    "        # report test diagnostics\n",
    "        normalizer_test = len(test_loader.dataset)\n",
    "    \n",
    "        total_epoch_loss_test = test_loss / normalizer_test\n",
    "        test_elbo[epoch] = total_epoch_loss_test\n",
    "        print(\"[epoch %03d]  average test loss: %.4f\" % (epoch, total_epoch_loss_test))\n",
    "        plot_llk(train_elbo, test_elbo)"
   ]
  },
  {
   "cell_type": "code",
   "execution_count": 123,
   "metadata": {},
   "outputs": [],
   "source": [
    "def compute_entropy(x):\n",
    "    z = ssvae.encoder(x)[0]\n",
    "    alpha = pyro.param(\"alpha_loc\")\n",
    "    beta = pyro.param(\"beta_loc\")\n",
    "    logits =   z @ beta + alpha\n",
    "    return dist.Categorical(logits=logits).entropy()\n"
   ]
  },
  {
   "cell_type": "code",
   "execution_count": 124,
   "metadata": {},
   "outputs": [],
   "source": [
    "# This function is to create entropy scores for the unsupervised data\n",
    "# and then remove the top 10 highest entropy scores\n",
    "# from the unsupervised data\n",
    "# This is done to label the most uncertain data points\n",
    "for i, (x, y) in enumerate(train_loader):\n",
    "    y = np.argmax(y, axis=1)\n",
    "\n",
    "    idx_unsup = np.sort(idxs_unsup[i])\n",
    "    entropy = compute_entropy(x).detach().numpy()\n",
    "    entropy[~np.isin(np.arange(len(entropy)),idx_unsup)] = -1\n",
    "    top_10_entropy = entropy.argsort()[-10:]\n",
    "    idx_unsup_new = [idx for idx in idx_unsup if idx not in top_10_entropy]\n",
    "    idxs_unsup[i] = idx_unsup_new"
   ]
  },
  {
   "cell_type": "code",
   "execution_count": 125,
   "metadata": {},
   "outputs": [
    {
     "name": "stdout",
     "output_type": "stream",
     "text": [
      "[epoch 000]  average training loss: 255.9843\n",
      "[epoch 000]  average test loss: 266.4906\n",
      "[epoch 005]  average training loss: 217.9868\n",
      "[epoch 005]  average test loss: 220.8908\n",
      "[epoch 010]  average training loss: 205.7907\n",
      "[epoch 010]  average test loss: 209.1183\n",
      "[epoch 015]  average training loss: 199.2114\n",
      "[epoch 015]  average test loss: 199.5552\n",
      "[epoch 020]  average training loss: 190.2351\n",
      "[epoch 020]  average test loss: 189.9314\n",
      "[epoch 025]  average training loss: 179.1258\n",
      "[epoch 025]  average test loss: 179.7051\n"
     ]
    }
   ],
   "source": [
    "pyro.clear_param_store()\n",
    "\n",
    "# setup the VAE\n",
    "ssvae = ssVAE(use_cuda=use_cuda, z_dim=50, hidden_dim=400, input_dim=784, binary=True)\n",
    "\n",
    "# setup the optimizer\n",
    "adam_args = {\"lr\": 1.0e-3}\n",
    "optimizer = Adam(adam_args)\n",
    "\n",
    "# setup the inference algorithm\n",
    "elbo = Trace_ELBO()\n",
    "svi = SVI(ssvae.model, ssvae.guide, optimizer, loss=elbo)\n",
    "\n",
    "train_elbo = {}\n",
    "test_elbo = {}\n",
    "# training loop\n",
    "num_epochs = 30\n",
    "fraction = 0.5\n",
    "\n",
    "for epoch in range(num_epochs):\n",
    "    # initialize loss accumulator\n",
    "    epoch_loss = 0.0\n",
    "    # do a training epoch over each mini-batch x returned\n",
    "    # by the data loader\n",
    "\n",
    "    for i, (x, y) in enumerate(train_loader):\n",
    "        y = np.argmax(y, axis=1)\n",
    "        idx_unsup_new = idxs_unsup[i]\n",
    "        y[idx_unsup_new] = -1\n",
    "\n",
    "        if use_cuda:\n",
    "            x = x.cuda()\n",
    "            y = y.cuda()\n",
    "        epoch_loss += svi.step(x, y, fraction=1-len(idx_unsup_new)/len(y))\n",
    "            \n",
    "    if epoch % 5 == 0:\n",
    "        # report training diagnostics\n",
    "        normalizer_train = len(train_loader.dataset)\n",
    "        total_epoch_loss_train = epoch_loss / normalizer_train\n",
    "        train_elbo[epoch] = total_epoch_loss_train\n",
    "        print(\"[epoch %03d]  average training loss: %.4f\" % (epoch, total_epoch_loss_train))\n",
    "        \n",
    "        # initialize loss accumulator\n",
    "        test_loss = 0.0\n",
    "        # compute the loss over the entire test set\n",
    "        for i, (x, y) in enumerate(test_loader):\n",
    "            y = np.argmax(y, axis=1)\n",
    "            # if on GPU put mini-batch into CUDA memory\n",
    "            if use_cuda:\n",
    "                x = x.cuda()\n",
    "                y = y.cuda()\n",
    "            \n",
    "            # compute ELBO estimate and accumulate loss\n",
    "            test_loss += svi.evaluate_loss(x, y)\n",
    "\n",
    "        # report test diagnostics\n",
    "        normalizer_test = len(test_loader.dataset)\n",
    "    \n",
    "        total_epoch_loss_test = test_loss / normalizer_test\n",
    "        test_elbo[epoch] = total_epoch_loss_test\n",
    "        print(\"[epoch %03d]  average test loss: %.4f\" % (epoch, total_epoch_loss_test))\n",
    "        plot_llk(train_elbo, test_elbo)"
   ]
  },
  {
   "cell_type": "markdown",
   "metadata": {},
   "source": [
    "Things for the report.\n",
    "1. Purpose, what do we want to do and why? \n",
    "a. Compare Classification on full dataset vs latent space classification. Otherwise, argue why we think latent space is a wiser choice. Less parameters\n",
    "2. Latent space sequential vs fully implemented.\n",
    "3. Showcase that we can do semi-supervised VAE. T-SNE comparison, compare classifier performance. (10% fully supervised, vs 10% semi-supervised)\n",
    "4. Show how amount of labelled data could be utilized with AL approach, logits vs BALD.\n",
    "5. Conclude\n"
   ]
  }
 ],
 "metadata": {
  "colab": {
   "collapsed_sections": [],
   "name": "06 - Classification models - Part 4 - Pyro - solutions.ipynb",
   "provenance": [
    {
     "file_id": "1zDyH0gmY7AuI_B2WhQAOynB4OQT0DzLP",
     "timestamp": 1582453187450
    },
    {
     "file_id": "1oDcOaKqMYlOrjxBYZVdYlG1ftELfczp6",
     "timestamp": 1582450341637
    }
   ]
  },
  "kernelspec": {
   "display_name": ".venv",
   "language": "python",
   "name": "python3"
  },
  "language_info": {
   "codemirror_mode": {
    "name": "ipython",
    "version": 3
   },
   "file_extension": ".py",
   "mimetype": "text/x-python",
   "name": "python",
   "nbconvert_exporter": "python",
   "pygments_lexer": "ipython3",
   "version": "3.9.6"
  }
 },
 "nbformat": 4,
 "nbformat_minor": 0
}
